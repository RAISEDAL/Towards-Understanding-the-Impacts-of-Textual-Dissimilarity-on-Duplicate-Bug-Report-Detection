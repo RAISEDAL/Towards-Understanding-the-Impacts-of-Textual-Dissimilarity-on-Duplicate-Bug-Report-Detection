{
  "nbformat": 4,
  "nbformat_minor": 0,
  "metadata": {
    "colab": {
      "provenance": []
    },
    "kernelspec": {
      "name": "python3",
      "display_name": "Python 3"
    },
    "language_info": {
      "name": "python"
    }
  },
  "cells": [
    {
      "cell_type": "code",
      "source": [
        "#importing necessary libraries \n",
        "import pandas as pd\n",
        "import nltk\n",
        "import gensim\n",
        "from gensim.utils import simple_preprocess\n",
        "from nltk.corpus import stopwords\n",
        "from nltk import word_tokenize\n",
        "from nltk.stem import WordNetLemmatizer, SnowballStemmer\n",
        "from nltk.stem.porter import *\n",
        "from gensim.parsing.preprocessing import STOPWORDS\n",
        "import numpy as np\n",
        "import pickle\n",
        "nltk.download('stopwords')\n",
        "nltk.download('wordnet')\n",
        "from typing import List, Dict, Tuple, Set\n",
        "import itertools\n",
        "import warnings\n",
        "warnings.filterwarnings(\"ignore\", category=DeprecationWarning)\n",
        "import pickle\n",
        "import requests\n",
        "import json\n",
        "import urllib.request\n",
        "import time\n",
        "from bs4 import BeautifulSoup\n",
        "from sklearn.feature_extraction.text import TfidfVectorizer\n",
        "from nltk.stem import PorterStemmer\n",
        "import re\n",
        "from sklearn.metrics.pairwise import cosine_similarity\n",
        "import statistics\n",
        "from datetime import datetime\n",
        "from scipy.stats import skew\n",
        "from sklearn.datasets import make_circles\n",
        "from sklearn.metrics import accuracy_score\n",
        "from sklearn.metrics import precision_score\n",
        "from sklearn.metrics import recall_score\n",
        "from sklearn.metrics import f1_score\n",
        "from sklearn.metrics import cohen_kappa_score\n",
        "from sklearn.metrics import roc_auc_score\n",
        "from sklearn.metrics import confusion_matrix\n",
        "from keras.models import Sequential\n",
        "from keras.layers import Dense"
      ],
      "metadata": {
        "id": "YBc2CtGYZTCO"
      },
      "execution_count": null,
      "outputs": []
    },
    {
      "cell_type": "code",
      "source": [
        "#mounting the google drive\n",
        "from google.colab import drive\n",
        "drive.mount('/content/drive')"
      ],
      "metadata": {
        "id": "GXIfn-rvu7pd"
      },
      "execution_count": null,
      "outputs": []
    },
    {
      "cell_type": "markdown",
      "source": [
        "## Reading dataset"
      ],
      "metadata": {
        "id": "77GiYleYVlax"
      }
    },
    {
      "cell_type": "code",
      "source": [
        "#importing the CSV file of the dataset from google drive into a dataframe\n",
        "train_eclipse_df=pd.read_csv('drive/MyDrive/Project 6308 + ICSME/Siamese/Mobile_siamese_train_preprocessed.csv')\n",
        "train_eclipse_df\n"
      ],
      "metadata": {
        "id": "a82T-YTgU1nb"
      },
      "execution_count": null,
      "outputs": []
    },
    {
      "cell_type": "code",
      "source": [
        "#importing the CSV file of the dataset from google drive into a dataframe\n",
        "test_eclipse_df=pd.read_csv('drive/MyDrive/Project 6308 + ICSME/Siamese/Mobile_siamese_test_preprocessed.csv')\n",
        "test_eclipse_df"
      ],
      "metadata": {
        "id": "FKNb9p7tVkhS"
      },
      "execution_count": null,
      "outputs": []
    },
    {
      "cell_type": "code",
      "source": [
        "#Merge train & test\n",
        "frames = [train_eclipse_df, test_eclipse_df]\n",
        "result = pd.concat(frames)\n",
        "result = result.sample(frac=1, random_state=1).reset_index(drop=True)\n",
        "result1 = result.copy()\n",
        "dup_df= result.copy()\n",
        "dup_df"
      ],
      "metadata": {
        "id": "Q9mDbnx-YOhp"
      },
      "execution_count": null,
      "outputs": []
    },
    {
      "cell_type": "code",
      "source": [
        "FEATURES = ['description1', 'description2']\n",
        "print('Description of length of the feature columns')\n",
        "dup_df[FEATURES].apply(lambda col: col.str.len().describe())"
      ],
      "metadata": {
        "id": "iUe8hMYBY31i"
      },
      "execution_count": null,
      "outputs": []
    },
    {
      "cell_type": "markdown",
      "source": [
        "## Train, Validation, Test Split"
      ],
      "metadata": {
        "id": "PAV0wX2jxSWJ"
      }
    },
    {
      "cell_type": "code",
      "source": [
        "from sklearn.model_selection import train_test_split\n",
        "import random\n",
        "import sklearn"
      ],
      "metadata": {
        "id": "ydZiq_CqxTVw"
      },
      "execution_count": null,
      "outputs": []
    },
    {
      "cell_type": "code",
      "source": [
        "train_val_df = train_eclipse_df.copy()\n",
        "train_val_df"
      ],
      "metadata": {
        "id": "xAlQ7mFiVvax"
      },
      "execution_count": null,
      "outputs": []
    },
    {
      "cell_type": "code",
      "source": [
        " test_df = test_eclipse_df.copy()\n",
        " test_df"
      ],
      "metadata": {
        "id": "FjyZNriwxU8E"
      },
      "execution_count": null,
      "outputs": []
    },
    {
      "cell_type": "code",
      "source": [
        "train_df, val_df = train_test_split(\n",
        "  train_val_df,\n",
        "  test_size=0.2,\n",
        "  stratify=train_val_df.is_similar,\n",
        "  random_state=13,\n",
        ")"
      ],
      "metadata": {
        "id": "n4RGc4NYxX3S"
      },
      "execution_count": null,
      "outputs": []
    },
    {
      "cell_type": "code",
      "source": [
        "train_df"
      ],
      "metadata": {
        "id": "eRuiK2VDWWX6"
      },
      "execution_count": null,
      "outputs": []
    },
    {
      "cell_type": "code",
      "source": [
        "len(val_df[val_df.is_similar.astype('bool')]) / len(val_df)"
      ],
      "metadata": {
        "id": "Bp32fHa1WX25"
      },
      "execution_count": null,
      "outputs": []
    },
    {
      "cell_type": "code",
      "source": [
        "from collections import Counter\n",
        "from sklearn.datasets import make_classification\n",
        "from imblearn.over_sampling import RandomOverSampler "
      ],
      "metadata": {
        "id": "Z3xEKKzbrOBH"
      },
      "execution_count": null,
      "outputs": []
    },
    {
      "cell_type": "code",
      "source": [
        "label= train_df.is_similar\n",
        "type(label)"
      ],
      "metadata": {
        "id": "R5lkIlJktBOZ"
      },
      "execution_count": null,
      "outputs": []
    },
    {
      "cell_type": "code",
      "source": [
        "type(train_df)"
      ],
      "metadata": {
        "id": "ZRQM7bqGtYXM"
      },
      "execution_count": null,
      "outputs": []
    },
    {
      "cell_type": "code",
      "source": [
        "sm = RandomOverSampler(random_state=42)\n",
        "X_res, y_res = sm.fit_resample(X=train_df[['description1', 'description2']], y=train_df.is_similar)"
      ],
      "metadata": {
        "id": "OKcRHII3sYKG"
      },
      "execution_count": null,
      "outputs": []
    },
    {
      "cell_type": "code",
      "source": [
        "train_df = X_res.copy()\n",
        "train_df['is_similar'] = y_res\n",
        "train_df = train_df.sample(frac=1)"
      ],
      "metadata": {
        "id": "rY2pAwvAuD4T"
      },
      "execution_count": null,
      "outputs": []
    },
    {
      "cell_type": "code",
      "source": [
        "train_df"
      ],
      "metadata": {
        "id": "0iZG2QuMuKNT"
      },
      "execution_count": null,
      "outputs": []
    },
    {
      "cell_type": "code",
      "source": [
        "len(train_df[train_df.is_similar.astype('bool')]) / len(train_df)"
      ],
      "metadata": {
        "id": "yWcRdmZXuNt_"
      },
      "execution_count": null,
      "outputs": []
    },
    {
      "cell_type": "code",
      "source": [
        "print(f'Train Val Test Size: {len(train_df):,} {len(val_df):,} {len(test_df):,}')"
      ],
      "metadata": {
        "id": "bRlsFfTExl6w"
      },
      "execution_count": null,
      "outputs": []
    },
    {
      "cell_type": "markdown",
      "source": [
        "## Download & Prepare Embedding"
      ],
      "metadata": {
        "id": "QWklXbxt0AfP"
      }
    },
    {
      "cell_type": "code",
      "source": [
        "import os\n",
        "os.environ['CUDA_VISIBLE_DEVICES'] = '-1'\n",
        "\n",
        "import tensorflow as tf\n",
        "import tensorflow.keras.utils as kutils\n",
        "from keras.layers.preprocessing.text_vectorization import TextVectorization"
      ],
      "metadata": {
        "id": "6gm-gZy60BSn"
      },
      "execution_count": null,
      "outputs": []
    },
    {
      "cell_type": "markdown",
      "source": [
        "## create vocabulary index"
      ],
      "metadata": {
        "id": "0twgBVfbrJeH"
      }
    },
    {
      "cell_type": "code",
      "source": [
        "from typing import List"
      ],
      "metadata": {
        "id": "pikhDBmarXVg"
      },
      "execution_count": null,
      "outputs": []
    },
    {
      "cell_type": "code",
      "source": [
        "MAX_TOKENS = 20000\n",
        "MAX_TITLE_LENGTH = 21\n",
        "MAX_DESCRIPTION_LENGTH = 500\n",
        "EMBEDDING_DIM = 100"
      ],
      "metadata": {
        "id": "cItkSImjrL-p"
      },
      "execution_count": null,
      "outputs": []
    },
    {
      "cell_type": "code",
      "source": [
        "def build_vocab(sentences: List[str], sequence_length: int):\n",
        "  vectorizer = TextVectorization(\n",
        "    max_tokens=MAX_TOKENS - 2,\n",
        "    output_sequence_length=sequence_length,\n",
        "  )\n",
        "  vectorizer.adapt(sentences)\n",
        "  vocab = vectorizer.get_vocabulary()\n",
        "  word_index = dict(zip(vocab, range(len(vocab))))\n",
        "\n",
        "  return vectorizer, word_index"
      ],
      "metadata": {
        "id": "GQqko955rNdW"
      },
      "execution_count": null,
      "outputs": []
    },
    {
      "cell_type": "code",
      "source": [
        "descr_vectorizer, descr_word_index = build_vocab(\n",
        "  [dup_df.description1, dup_df.description2],\n",
        "  MAX_DESCRIPTION_LENGTH,\n",
        ")\n",
        "\n",
        "print(\n",
        "  'Most frequent description words:',\n",
        "  list(itertools.islice(descr_word_index.keys(), 5)),\n",
        ")"
      ],
      "metadata": {
        "id": "VlWPcs0ArPg-"
      },
      "execution_count": null,
      "outputs": []
    },
    {
      "cell_type": "markdown",
      "source": [
        "## Prepare Training Data"
      ],
      "metadata": {
        "id": "LiVmA9BquIfW"
      }
    },
    {
      "cell_type": "code",
      "source": [
        "def generate_batches(\n",
        "  split_df: pd.DataFrame,\n",
        "  batch_size=256,\n",
        "):\n",
        "  steps_per_epoch = len(split_df) // batch_size\n",
        "  while True:\n",
        "    for i in range(steps_per_epoch):\n",
        "      offset = i * batch_size\n",
        "      till = offset + batch_size\n",
        "      feature_batches = []\n",
        "      for feature in FEATURES:\n",
        "        vectorizer = descr_vectorizer\n",
        "        feature_batch = vectorizer(\n",
        "          split_df[feature][offset: till].to_numpy().reshape((-1, 1))\n",
        "        ).numpy()\n",
        "        feature_batches.append(feature_batch)\n",
        "\n",
        "\n",
        "      target_batch = split_df.is_similar[offset: till].to_numpy()\n",
        "      yield (\n",
        "        feature_batches,\n",
        "        target_batch,\n",
        "      )"
      ],
      "metadata": {
        "id": "S0Rfq90VuJSt"
      },
      "execution_count": null,
      "outputs": []
    },
    {
      "cell_type": "markdown",
      "source": [
        "## Create Models"
      ],
      "metadata": {
        "id": "0RmhmXHOuOum"
      }
    },
    {
      "cell_type": "code",
      "source": [
        "from tensorflow.keras import layers\n",
        "from tensorflow.keras import models\n",
        "from tensorflow.keras import callbacks\n",
        "from keras.initializers.initializers_v2 import Constant"
      ],
      "metadata": {
        "id": "4cfVI21muPqw"
      },
      "execution_count": null,
      "outputs": []
    },
    {
      "cell_type": "code",
      "source": [
        "DescrEmbeddingLayer = layers.Embedding(\n",
        "  input_dim=MAX_TOKENS,\n",
        "  output_dim=EMBEDDING_DIM,\n",
        "  name='DescrEmbeddingLayer',\n",
        ")\n",
        "\n",
        "def make_descr_layer(num, kernel_size=3, pool_size=2, strides=None):\n",
        "  DescrConv1dLayer = layers.Conv1D(\n",
        "    filters=32,\n",
        "    kernel_size=kernel_size,\n",
        "    activation='relu',\n",
        "    name=f'DescrConv1dLayer{num}',\n",
        "  )\n",
        "  DescrMaxPool1dLayer = layers.MaxPool1D(\n",
        "    pool_size=pool_size,\n",
        "    strides=strides,\n",
        "    name=f'DescrMaxPool1dLayer{num}',\n",
        "  )\n",
        "  return DescrConv1dLayer, DescrMaxPool1dLayer\n",
        "\n",
        "DescrConv1dLayer1, DescrMaxPool1dLayer1 = make_descr_layer(1, pool_size=4)\n",
        "DescrConv1dLayer2, DescrMaxPool1dLayer2 = make_descr_layer(2)"
      ],
      "metadata": {
        "id": "iD1j962RuSTs"
      },
      "execution_count": null,
      "outputs": []
    },
    {
      "cell_type": "code",
      "source": [
        "def create_siamese_component(num: int):\n",
        "  class SiameseComponent:\n",
        "    def __init__(self, title: layers.Input, description: layers.Input, output: layers.Concatenate):\n",
        "      self.title = title\n",
        "      self.description = description\n",
        "      self.output = output\n",
        "\n",
        "  title_input = layers.Input(shape=(None,), dtype='int32', name=f'title{num}_input')\n",
        "\n",
        "  descr_input = layers.Input(shape=(None,), name=f'descr{num}_input')\n",
        "  descr_embedding_layer = DescrEmbeddingLayer(descr_input)\n",
        "  descr_conv1d1 = DescrConv1dLayer1(descr_embedding_layer)\n",
        "  descr_max_pool1d1 = DescrMaxPool1dLayer1(descr_conv1d1)\n",
        "  descr_conv1d2 = DescrConv1dLayer2(descr_max_pool1d1)\n",
        "  descr_max_pool1d2 = DescrMaxPool1dLayer2(descr_conv1d2)\n",
        "  # descr_conv1d3 = DescrConv1dLayer3(descr_max_pool1d2)\n",
        "  # descr_max_pool1d3 = DescrMaxPool1dLayer3(descr_conv1d3)\n",
        "  descr_flat_Layer = layers.Flatten(name=f'FlatDescr{num}')(descr_max_pool1d2)\n",
        "  \n",
        "  concat = layers.Concatenate(axis=1, name=f'Concat{num}')([descr_flat_Layer])\n",
        "  return SiameseComponent(title_input, descr_input, concat)\n",
        "\n",
        "\n",
        "component1 = create_siamese_component(1)\n",
        "component2 = create_siamese_component(2)\n",
        "\n",
        "dot_product_layer = layers.Dot(\n",
        "  axes=1,\n",
        "  name='dot_product_layer'\n",
        ")([component1.output, component2.output])\n",
        "output = layers.Dense(\n",
        "  1, activation='sigmoid', name='output',\n",
        ")(dot_product_layer)\n",
        "siamese_model = models.Model(\n",
        "  inputs=[component1.description, component2.description],\n",
        "  outputs=output,\n",
        "  name='siamese_model'\n",
        ")\n",
        "\n",
        "kutils.plot_model(siamese_model)"
      ],
      "metadata": {
        "id": "hKaKSfpwuWrU"
      },
      "execution_count": null,
      "outputs": []
    },
    {
      "cell_type": "markdown",
      "source": [
        "## Train"
      ],
      "metadata": {
        "id": "BrWZRqkJwBtt"
      }
    },
    {
      "cell_type": "code",
      "source": [
        "BATCH_SIZE = 256\n",
        "opt = tf.keras.optimizers.Adam(learning_rate=0.001)\n",
        "\n",
        "siamese_model.compile(\n",
        "  loss='binary_crossentropy',\n",
        "  optimizer=opt,\n",
        "  metrics=['acc'],\n",
        ")\n",
        "callback = callbacks.ModelCheckpoint(\n",
        "    filepath=f'../../drive/MyDrive/Project 6308 + ICSME/Siamese'\n",
        "             '.epoch-{epoch:02d}-loss-{val_loss:.3f}.hdf5',\n",
        "    monitor='val_loss',\n",
        "    verbose=0,\n",
        "    save_best_only=True,\n",
        "    mode='min',\n",
        ")"
      ],
      "metadata": {
        "id": "rBJFNAONwD_X"
      },
      "execution_count": null,
      "outputs": []
    },
    {
      "cell_type": "code",
      "source": [
        "history = siamese_model.fit(\n",
        "  generate_batches(train_df, BATCH_SIZE),\n",
        "  steps_per_epoch=len(train_df) // BATCH_SIZE,\n",
        "  epochs=12,\n",
        "  validation_data=generate_batches(val_df, BATCH_SIZE),\n",
        "  validation_steps=len(val_df) // BATCH_SIZE,\n",
        "  verbose=1,\n",
        "  # callbacks= [callback]\n",
        ")"
      ],
      "metadata": {
        "id": "D5omz3YiwJIs"
      },
      "execution_count": null,
      "outputs": []
    },
    {
      "cell_type": "code",
      "source": [
        "siamese_model.save('something.hd5')"
      ],
      "metadata": {
        "id": "yIcj_y_Zb5aP"
      },
      "execution_count": null,
      "outputs": []
    },
    {
      "cell_type": "code",
      "source": [
        "ax = pd.DataFrame(history.history).plot()"
      ],
      "metadata": {
        "id": "UK6kHy_0xrN9"
      },
      "execution_count": null,
      "outputs": []
    },
    {
      "cell_type": "code",
      "source": [
        "from keras.utils.vis_utils import plot_model\n",
        "from matplotlib import pyplot\n",
        "import matplotlib.pyplot as plt\n",
        "plot_model(siamese_model, to_file='model_plot.png', show_shapes=True, show_layer_names=True)\n",
        "# plot the loss\n",
        "plt.plot(history.history['loss'], label='train loss')\n",
        "plt.plot(history.history['val_loss'], label='val loss')\n",
        "plt.legend()\n",
        "plt.show()\n",
        "plt.savefig('LossVal_loss')"
      ],
      "metadata": {
        "id": "ARFey1_L1Nff"
      },
      "execution_count": null,
      "outputs": []
    },
    {
      "cell_type": "code",
      "source": [
        "# plot the accuracy\n",
        "from sklearn.metrics import accuracy_score\n",
        "plt.plot(history.history['acc'], label='train acc')\n",
        "plt.plot(history.history['val_acc'], label='val acc')\n",
        "plt.legend()\n",
        "plt.show()\n",
        "plt.savefig('AccVal_acc')"
      ],
      "metadata": {
        "id": "1sRgywWh4f6X"
      },
      "execution_count": null,
      "outputs": []
    },
    {
      "cell_type": "markdown",
      "source": [
        "## Evaluate on test data"
      ],
      "metadata": {
        "id": "uxivE_4KF-lC"
      }
    },
    {
      "cell_type": "code",
      "source": [
        "# from tensorflow.keras.models import load_model\n",
        "\n",
        "# siamese_model = load_model('../../models/siamese-openOffice.epoch-30-loss-0.457.hdf5')"
      ],
      "metadata": {
        "id": "1O6FnyjgF_EK"
      },
      "execution_count": null,
      "outputs": []
    },
    {
      "cell_type": "code",
      "source": [
        "siamese_model.evaluate(\n",
        "  generate_batches(test_df, BATCH_SIZE),\n",
        "  steps=len(test_df) // BATCH_SIZE,\n",
        ")"
      ],
      "metadata": {
        "id": "hQ_Vlc2U1Sf_"
      },
      "execution_count": null,
      "outputs": []
    },
    {
      "cell_type": "code",
      "source": [
        "len(test_df)"
      ],
      "metadata": {
        "id": "M9LG-i2a2HLv"
      },
      "execution_count": null,
      "outputs": []
    },
    {
      "cell_type": "code",
      "source": [
        "BATCH_SIZE = len(test_df)\n",
        "num_batched_instances = len(test_df) - (len(test_df) % BATCH_SIZE)\n",
        "pred_y = siamese_model.predict(\n",
        "  generate_batches(test_df, BATCH_SIZE),\n",
        "  steps=len(test_df) // BATCH_SIZE,\n",
        "  verbose=1,\n",
        ")"
      ],
      "metadata": {
        "id": "D_S1YT7gGC1A"
      },
      "execution_count": null,
      "outputs": []
    },
    {
      "cell_type": "code",
      "source": [
        "from sklearn.metrics import classification_report\n",
        "print(classification_report(\n",
        "  test_df.is_similar[:num_batched_instances],\n",
        "  pred_y > .5,\n",
        "))"
      ],
      "metadata": {
        "id": "5esiuBvyHOaZ"
      },
      "execution_count": null,
      "outputs": []
    },
    {
      "cell_type": "code",
      "source": [
        "import sklearn\n",
        "from sklearn.metrics import confusion_matrix\n",
        "from sklearn.metrics import confusion_matrix,accuracy_score,classification_report,roc_auc_score\n",
        "import numpy as np; np.random.seed(0)\n",
        "import seaborn as sns; sns.set_theme()\n",
        "from sklearn.metrics import accuracy_score\n",
        "import sklearn.metrics as metrics"
      ],
      "metadata": {
        "id": "R8OK-tLz5szV"
      },
      "execution_count": null,
      "outputs": []
    },
    {
      "cell_type": "code",
      "source": [
        "from sklearn.metrics import roc_curve\n",
        "\n",
        "value_names = ['TPR', 'FPR', 'Threshold']\n",
        "roc = dict(zip(value_names, roc_curve(\n",
        "  test_df.is_similar[:num_batched_instances],\n",
        "  pred_y,\n",
        ")))\n",
        "pd.DataFrame(roc)"
      ],
      "metadata": {
        "id": "ivdeHQwIIQPp"
      },
      "execution_count": null,
      "outputs": []
    },
    {
      "cell_type": "code",
      "source": [
        "from sklearn.metrics import roc_auc_score\n",
        "\n",
        "auroc = roc_auc_score(\n",
        "  test_df.is_similar[:num_batched_instances],\n",
        "  pred_y,\n",
        ")\n",
        "\n",
        "print('AUROC score:', auroc)"
      ],
      "metadata": {
        "id": "hGbIeSFWITbw"
      },
      "execution_count": null,
      "outputs": []
    },
    {
      "cell_type": "code",
      "source": [
        "print('For probability:')\n",
        "print(f'Mean: {pred_y.mean()}, STD: {pred_y.std()}')\n",
        "print('For categorical:')\n",
        "print(f'Mean: {(pred_y > .5).mean()}, STD: {(pred_y > .5).std()}')"
      ],
      "metadata": {
        "id": "hKRDSyhv-RB8"
      },
      "execution_count": null,
      "outputs": []
    },
    {
      "cell_type": "markdown",
      "source": [
        "## Evaluate on textually similar data"
      ],
      "metadata": {
        "id": "7i8FGP06ZtbN"
      }
    },
    {
      "cell_type": "code",
      "source": [
        "#importing the CSV file of the dataset from google drive into a dataframe\n",
        "sim_df=pd.read_csv('drive/MyDrive/Project 6308 + ICSME/Siamese/Mobile_siamese_textually_similar_test_duplicates_preprocessed.csv')\n",
        "sim_df"
      ],
      "metadata": {
        "id": "ctv5i4uwZwQB"
      },
      "execution_count": null,
      "outputs": []
    },
    {
      "cell_type": "code",
      "source": [
        "len(sim_df)"
      ],
      "metadata": {
        "id": "uBEUgjZW9oll"
      },
      "execution_count": null,
      "outputs": []
    },
    {
      "cell_type": "code",
      "source": [
        "BATCH_SIZE = len(sim_df)\n",
        "num_batched_instances = len(sim_df) - (len(sim_df) % BATCH_SIZE)\n",
        "pred_y_sim = siamese_model.predict(\n",
        "  generate_batches(sim_df, BATCH_SIZE),\n",
        "  steps=len(sim_df) // BATCH_SIZE,\n",
        "  verbose=1,\n",
        ")"
      ],
      "metadata": {
        "id": "weGMLu0eaM4Q"
      },
      "execution_count": null,
      "outputs": []
    },
    {
      "cell_type": "code",
      "source": [
        "siamese_model.evaluate(\n",
        "  generate_batches(sim_df, BATCH_SIZE),\n",
        "  steps=len(sim_df) // BATCH_SIZE,\n",
        ")"
      ],
      "metadata": {
        "id": "oe8168B8ztDW"
      },
      "execution_count": null,
      "outputs": []
    },
    {
      "cell_type": "code",
      "source": [
        "from sklearn.metrics import classification_report\n",
        "\n",
        "print(classification_report(\n",
        "  sim_df.is_similar[:num_batched_instances],\n",
        "  pred_y_sim > .5,\n",
        "))"
      ],
      "metadata": {
        "id": "apm5qUZtaTCO"
      },
      "execution_count": null,
      "outputs": []
    },
    {
      "cell_type": "code",
      "source": [
        "from sklearn.metrics import roc_curve\n",
        "\n",
        "value_names = ['TPR', 'FPR', 'Threshold']\n",
        "roc = dict(zip(value_names, roc_curve(\n",
        "  sim_df.is_similar[:num_batched_instances],\n",
        "  pred_y_sim,\n",
        ")))\n",
        "pd.DataFrame(roc)"
      ],
      "metadata": {
        "id": "i4UOiMGvaXq_"
      },
      "execution_count": null,
      "outputs": []
    },
    {
      "cell_type": "code",
      "source": [
        "from sklearn.metrics import roc_auc_score\n",
        "\n",
        "auroc = roc_auc_score(\n",
        "  sim_df.is_similar[:num_batched_instances],\n",
        "  pred_y_sim,\n",
        ")\n",
        "\n",
        "print('AUROC score:', auroc)\n"
      ],
      "metadata": {
        "id": "Uv4ot3cnaZy-"
      },
      "execution_count": null,
      "outputs": []
    },
    {
      "cell_type": "code",
      "source": [
        "print('For probability:')\n",
        "print(f'Mean: {pred_y_sim.mean()}, STD: {pred_y_sim.std()}')\n",
        "print('For categorical:')\n",
        "print(f'Mean: {(pred_y_sim > .5).mean()}, STD: {(pred_y_sim > .5).std()}')"
      ],
      "metadata": {
        "id": "M6I1HvSh-lfd"
      },
      "execution_count": null,
      "outputs": []
    },
    {
      "cell_type": "markdown",
      "source": [
        "## Evaluate on textually dissimilar data"
      ],
      "metadata": {
        "id": "BmRmorjEfQb8"
      }
    },
    {
      "cell_type": "code",
      "source": [
        "#importing the CSV file of the dataset from google drive into a dataframe\n",
        "dissim_df=pd.read_csv('drive/MyDrive/Project 6308 + ICSME/Siamese/Mobile_siamese_textually_dissimilar_test_duplicates_preprocessed.csv')\n",
        "dissim_df"
      ],
      "metadata": {
        "id": "S5np3yqwfV0V"
      },
      "execution_count": null,
      "outputs": []
    },
    {
      "cell_type": "code",
      "source": [
        "BATCH_SIZE = len(dissim_df)\n",
        "num_batched_instances = len(dissim_df) - (len(dissim_df) % BATCH_SIZE)\n",
        "pred_y_dis = siamese_model.predict(\n",
        "  generate_batches(dissim_df, BATCH_SIZE),\n",
        "  steps=len(dissim_df) // BATCH_SIZE,\n",
        "  verbose=1,\n",
        ")"
      ],
      "metadata": {
        "id": "i1-3kMw_fh-9"
      },
      "execution_count": null,
      "outputs": []
    },
    {
      "cell_type": "code",
      "source": [
        "siamese_model.evaluate(\n",
        "  generate_batches(dissim_df, BATCH_SIZE),\n",
        "  steps=len(dissim_df) // BATCH_SIZE,\n",
        ")"
      ],
      "metadata": {
        "id": "w4_X1A4gzwD2"
      },
      "execution_count": null,
      "outputs": []
    },
    {
      "cell_type": "code",
      "source": [
        "from sklearn.metrics import classification_report\n",
        "\n",
        "print(classification_report(\n",
        "  dissim_df.is_similar[:num_batched_instances],\n",
        "  pred_y_dis > .5,\n",
        "))"
      ],
      "metadata": {
        "id": "Xqhsl_Byfm6N"
      },
      "execution_count": null,
      "outputs": []
    },
    {
      "cell_type": "code",
      "source": [
        "from sklearn.metrics import roc_curve\n",
        "\n",
        "value_names = ['TPR', 'FPR', 'Threshold']\n",
        "roc = dict(zip(value_names, roc_curve(\n",
        "  dissim_df.is_similar[:num_batched_instances],\n",
        "  pred_y_dis,\n",
        ")))\n",
        "pd.DataFrame(roc)"
      ],
      "metadata": {
        "id": "UC2L7lDofqqU"
      },
      "execution_count": null,
      "outputs": []
    },
    {
      "cell_type": "code",
      "source": [
        "from sklearn.metrics import roc_auc_score\n",
        "\n",
        "auroc = roc_auc_score(\n",
        "  dissim_df.is_similar[:num_batched_instances],\n",
        "  pred_y_dis,\n",
        ")\n",
        "\n",
        "print('AUROC score:', auroc)\n"
      ],
      "metadata": {
        "id": "keUtQxHbfv2M"
      },
      "execution_count": null,
      "outputs": []
    },
    {
      "cell_type": "code",
      "source": [
        "print('For probability:')\n",
        "print(f'Mean: {pred_y_dis.mean()}, STD: {pred_y_dis.std()}')\n",
        "print('For categorical:')\n",
        "print(f'Mean: {(pred_y_dis > .5).mean()}, STD: {(pred_y_dis > .5).std()}')"
      ],
      "metadata": {
        "id": "xhSh7qzv0aT2"
      },
      "execution_count": null,
      "outputs": []
    }
  ]
}