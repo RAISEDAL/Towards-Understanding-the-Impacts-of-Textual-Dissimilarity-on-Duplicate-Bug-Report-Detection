{
  "nbformat": 4,
  "nbformat_minor": 0,
  "metadata": {
    "colab": {
      "provenance": []
    },
    "kernelspec": {
      "name": "python3",
      "display_name": "Python 3"
    },
    "language_info": {
      "name": "python"
    }
  },
  "cells": [
    {
      "cell_type": "code",
      "source": [
        "!pip install PyNonpar"
      ],
      "metadata": {
        "id": "4DGYQILKPFu-"
      },
      "execution_count": null,
      "outputs": []
    },
    {
      "cell_type": "markdown",
      "source": [
        "## Data from experimental result"
      ],
      "metadata": {
        "id": "PdbW047M-cQ4"
      }
    },
    {
      "cell_type": "code",
      "source": [
        "import pandas as pd\n",
        "import numpy as np\n",
        "from scipy import stats\n",
        "from numpy.random import seed\n",
        "from scipy.stats import kstest\n",
        "from scipy.stats import ks_2samp\n",
        "np.random.seed(0)\n",
        "rng = np.random.default_rng()\n",
        "import pandas as pd\n",
        "import numpy as np\n",
        "from scipy import stats\n",
        "from numpy.random import seed\n",
        "from scipy.stats import kstest\n",
        "from scipy.stats import ks_2samp\n",
        "np.random.seed(0)\n",
        "rng = np.random.default_rng()\n",
        "from sklearn.metrics.pairwise import cosine_similarity\n",
        "import statistics\n",
        "from datetime import datetime\n",
        "from scipy.stats import skew\n",
        "%matplotlib notebook\n",
        "import matplotlib.pyplot as plt\n",
        "import seaborn as sns\n",
        "import pandas as pd\n",
        "import numpy as np\n",
        "plt.rcParams.update({'figure.max_open_warning': 0})\n",
        "import matplotlib as mpl\n",
        "import matplotlib.pyplot as plt\n",
        "plt.style.use('classic')\n",
        "import cv2\n",
        "%matplotlib inline\n",
        "sns.set_context('notebook')\n",
        "%config InlineBackend.figure_format = 'retina'\n",
        "import cv2 as cv\n",
        "from google.colab.patches import cv2_imshow # for image display\n",
        "from skimage import io\n",
        "from PIL import Image\n",
        "import matplotlib.pylab as plt\n",
        "import PyNonpar\n",
        "from PyNonpar.twosample import wilcoxon_mann_whitney_test"
      ],
      "metadata": {
        "id": "wNOYH3peJ2b0"
      },
      "execution_count": null,
      "outputs": []
    },
    {
      "cell_type": "markdown",
      "source": [
        "# Statistical Significance Test on BM25 and LDA+GloVe results"
      ],
      "metadata": {
        "id": "Pdu1Wo7m06P6"
      }
    },
    {
      "cell_type": "code",
      "source": [
        "# Eclipse datatset BM25\n",
        "Eclipse_data_sim_BM25= (24.15, 37.63, 43.26, 49.10, 52.11, 53.72, 58.55, 61.77, 62.77)\n",
        "Eclipse_data_dissim_BM25 = (21.83, 37.50, 41.27, 44.64, 46.23, 46.62, 49.41, 51.19, 52.58)\n",
        "\n",
        "# Eclipse dataset LDA + GloVe\n",
        "Eclipse_data_sim_LDA= (0, 6.0, 8.5, 12.0, 13.0, 13.0, 13.5, 14.00, 14.49)\n",
        "Eclipse_data_dissim_LDA = (0, 2.0, 5.0, 5.5, 7.0, 7.0, 8.0, 8.0, 8.0)\\"
      ],
      "metadata": {
        "id": "G4dg1ZhmWibI"
      },
      "execution_count": null,
      "outputs": []
    },
    {
      "cell_type": "code",
      "source": [
        "# Firefox datatset BM25\n",
        "firefox_data_sim_BM25= (20.72, 34.49, 39.92, 45.34, 47.01, 48.26, 52.29, 55.22, 57.58)\n",
        "firefox_data_dissim_BM25 = (11.64, 20.82, 26.56, 31.31, 33.28, 35.41, 39.51, 43.61, 46.72)\n",
        "\n",
        "# Firefox dataset LDA + GloVe\n",
        "firefox_data_sim_LDA= (0.0, 10.0, 13.5, 15.0, 16.0, 16.5, 17.0, 19.0, 20.5)\n",
        "firefox_data_dissim_LDA = (0, 6.5, 11.5, 13.0, 14.0, 15.0, 15.5, 17.5, 18.5)"
      ],
      "metadata": {
        "id": "KtRoVtFA5WGq"
      },
      "execution_count": null,
      "outputs": []
    },
    {
      "cell_type": "code",
      "source": [
        "# Mobile datatset BM25\n",
        "mobile_data_sim_BM25= (22.00, 44.00, 48.00, 58.00, 60.00, 64.00, 70.00, 78.00, 78.00) \n",
        "mobile_data_dissim_BM25 = (15.73, 28.09, 35.96, 43.82, 44.94, 47.19, 51.68, 56.18, 59.55)\n",
        "# Mobile dataset LDA + GloVe\n",
        "mobile_data_sim_LDA= (0.0, 4.00, 7.5, 11.00, 11.00, 11.50, 17.50, 19.00, 20.50)\n",
        "mobile_data_dissim_LDA = (0.0, 2.50, 4.50,6.0, 6.50, 7.50, 10.00, 12.00, 15.00)"
      ],
      "metadata": {
        "id": "yEDw5o6F5_aK"
      },
      "execution_count": null,
      "outputs": []
    },
    {
      "cell_type": "code",
      "source": [
        "from scipy import stats\n",
        "#If p ≤ 0.05: then the null hypothesis can be rejected (i.e. the variable is NOT normally distributed).\n",
        "#If p > 0.05: then the null hypothesis cannot be rejected (i.e. the variable MAY BE normally distributed)."
      ],
      "metadata": {
        "id": "oWL9WKRwiofm"
      },
      "execution_count": null,
      "outputs": []
    },
    {
      "cell_type": "code",
      "source": [
        "shapiro_test = stats.shapiro(Eclipse_data_sim_BM25)\n",
        "shapiro_test #Normal"
      ],
      "metadata": {
        "colab": {
          "base_uri": "https://localhost:8080/"
        },
        "id": "uLiZPQ6biz-S",
        "outputId": "aa909abd-eed9-47ce-9bf3-ccbca40ee49f"
      },
      "execution_count": null,
      "outputs": [
        {
          "output_type": "execute_result",
          "data": {
            "text/plain": [
              "ShapiroResult(statistic=0.9227437973022461, pvalue=0.415440171957016)"
            ]
          },
          "metadata": {},
          "execution_count": 10
        }
      ]
    },
    {
      "cell_type": "code",
      "source": [
        "shapiro_test = stats.shapiro(Eclipse_data_dissim_BM25)\n",
        "shapiro_test #Not normal"
      ],
      "metadata": {
        "colab": {
          "base_uri": "https://localhost:8080/"
        },
        "id": "7qB-gldWisM5",
        "outputId": "b13938a0-957e-4bc5-aedb-ee109a2cb528"
      },
      "execution_count": null,
      "outputs": [
        {
          "output_type": "execute_result",
          "data": {
            "text/plain": [
              "ShapiroResult(statistic=0.8398286700248718, pvalue=0.05750168114900589)"
            ]
          },
          "metadata": {},
          "execution_count": 11
        }
      ]
    },
    {
      "cell_type": "code",
      "source": [
        "eclipse_x = (24.15, 37.63, 43.26, 49.10, 52.11, 53.72, 58.55, 61.77, 62.77, 21.83, 37.50, 41.27, 44.64, 46.23, 46.62, 49.41, 51.19, 52.58)\n",
        "shapiro_test = stats.shapiro(x)\n",
        "shapiro_test #Normal"
      ],
      "metadata": {
        "colab": {
          "base_uri": "https://localhost:8080/"
        },
        "id": "YPNXOAE_Oh67",
        "outputId": "f1bc2eb2-a087-4c7a-8216-18334b05090d"
      },
      "execution_count": null,
      "outputs": [
        {
          "output_type": "execute_result",
          "data": {
            "text/plain": [
              "ShapiroResult(statistic=0.9378121495246887, pvalue=0.2657563090324402)"
            ]
          },
          "metadata": {},
          "execution_count": 42
        }
      ]
    },
    {
      "cell_type": "code",
      "source": [
        "shapiro_test = stats.shapiro(Eclipse_data_sim_LDA)\n",
        "shapiro_test #Not normal "
      ],
      "metadata": {
        "colab": {
          "base_uri": "https://localhost:8080/"
        },
        "id": "Cz5KQyFsisVN",
        "outputId": "c03c9e3d-9c10-44e7-f344-3272f9537c5b"
      },
      "execution_count": null,
      "outputs": [
        {
          "output_type": "execute_result",
          "data": {
            "text/plain": [
              "ShapiroResult(statistic=0.7997122406959534, pvalue=0.02026718482375145)"
            ]
          },
          "metadata": {},
          "execution_count": 12
        }
      ]
    },
    {
      "cell_type": "code",
      "source": [
        "shapiro_test = stats.shapiro(Eclipse_data_dissim_LDA)\n",
        "shapiro_test   #Not normal"
      ],
      "metadata": {
        "colab": {
          "base_uri": "https://localhost:8080/"
        },
        "id": "Eiy4TuYLisZx",
        "outputId": "0662890a-0a5d-40d1-ab69-90074a21c2d6"
      },
      "execution_count": null,
      "outputs": [
        {
          "output_type": "execute_result",
          "data": {
            "text/plain": [
              "ShapiroResult(statistic=0.8293395638465881, pvalue=0.04389951378107071)"
            ]
          },
          "metadata": {},
          "execution_count": 13
        }
      ]
    },
    {
      "cell_type": "code",
      "source": [
        "shapiro_test = stats.shapiro(mobile_data_dissim_LDA)\n",
        "shapiro_test #Normal"
      ],
      "metadata": {
        "colab": {
          "base_uri": "https://localhost:8080/"
        },
        "id": "bkTPTOiIk4HT",
        "outputId": "22d2e4d8-b554-48b6-a736-f8912b55e4a9"
      },
      "execution_count": null,
      "outputs": [
        {
          "output_type": "execute_result",
          "data": {
            "text/plain": [
              "ShapiroResult(statistic=0.9877365231513977, pvalue=0.9921829104423523)"
            ]
          },
          "metadata": {},
          "execution_count": 14
        }
      ]
    },
    {
      "cell_type": "code",
      "source": [
        "shapiro_test = stats.shapiro(mobile_data_sim_LDA)\n",
        "shapiro_test #Normal"
      ],
      "metadata": {
        "colab": {
          "base_uri": "https://localhost:8080/"
        },
        "id": "KMbV2yHCk4Jh",
        "outputId": "06699e29-a86b-40e9-bdfd-9f2d138221e5"
      },
      "execution_count": null,
      "outputs": [
        {
          "output_type": "execute_result",
          "data": {
            "text/plain": [
              "ShapiroResult(statistic=0.9511126279830933, pvalue=0.7022836804389954)"
            ]
          },
          "metadata": {},
          "execution_count": 15
        }
      ]
    },
    {
      "cell_type": "code",
      "source": [
        "shapiro_test = stats.shapiro(mobile_data_dissim_BM25)\n",
        "shapiro_test #normal"
      ],
      "metadata": {
        "colab": {
          "base_uri": "https://localhost:8080/"
        },
        "id": "ZUqN2dIgk4Ln",
        "outputId": "fd056cfc-a686-4279-fc49-8371bdf7d2b6"
      },
      "execution_count": null,
      "outputs": [
        {
          "output_type": "execute_result",
          "data": {
            "text/plain": [
              "ShapiroResult(statistic=0.9429959654808044, pvalue=0.6137670874595642)"
            ]
          },
          "metadata": {},
          "execution_count": 16
        }
      ]
    },
    {
      "cell_type": "code",
      "source": [
        "shapiro_test = stats.shapiro(mobile_data_sim_BM25)\n",
        "shapiro_test #normal"
      ],
      "metadata": {
        "colab": {
          "base_uri": "https://localhost:8080/"
        },
        "id": "Q4fzP53Rk4OC",
        "outputId": "eac1a9c5-7af6-45b2-e0b2-7f4b36ee34f6"
      },
      "execution_count": null,
      "outputs": [
        {
          "output_type": "execute_result",
          "data": {
            "text/plain": [
              "ShapiroResult(statistic=0.9290643930435181, pvalue=0.47248879075050354)"
            ]
          },
          "metadata": {},
          "execution_count": 17
        }
      ]
    },
    {
      "cell_type": "code",
      "source": [
        "shapiro_test = stats.shapiro(firefox_data_sim_BM25)\n",
        "shapiro_test #Normal"
      ],
      "metadata": {
        "colab": {
          "base_uri": "https://localhost:8080/"
        },
        "id": "9dWp2t1Jk4V3",
        "outputId": "291e4908-5e55-4a11-84be-06c0095745b6"
      },
      "execution_count": null,
      "outputs": [
        {
          "output_type": "execute_result",
          "data": {
            "text/plain": [
              "ShapiroResult(statistic=0.9201596975326538, pvalue=0.39356428384780884)"
            ]
          },
          "metadata": {},
          "execution_count": 18
        }
      ]
    },
    {
      "cell_type": "code",
      "source": [
        "shapiro_test = stats.shapiro(firefox_data_dissim_BM25)\n",
        "shapiro_test #normal"
      ],
      "metadata": {
        "colab": {
          "base_uri": "https://localhost:8080/"
        },
        "id": "3XRZxsgHloie",
        "outputId": "3c276bca-3f4e-4eb3-89ee-0f289e48b605"
      },
      "execution_count": null,
      "outputs": [
        {
          "output_type": "execute_result",
          "data": {
            "text/plain": [
              "ShapiroResult(statistic=0.9698811173439026, pvalue=0.8937112092971802)"
            ]
          },
          "metadata": {},
          "execution_count": 19
        }
      ]
    },
    {
      "cell_type": "code",
      "source": [
        "shapiro_test = stats.shapiro(firefox_data_sim_LDA)\n",
        "shapiro_test #Not normal"
      ],
      "metadata": {
        "colab": {
          "base_uri": "https://localhost:8080/"
        },
        "id": "gp1VR7qnlokz",
        "outputId": "b42c3403-f4f6-4c50-dd5e-98c455299a9c"
      },
      "execution_count": null,
      "outputs": [
        {
          "output_type": "execute_result",
          "data": {
            "text/plain": [
              "ShapiroResult(statistic=0.835889458656311, pvalue=0.05197311192750931)"
            ]
          },
          "metadata": {},
          "execution_count": 20
        }
      ]
    },
    {
      "cell_type": "code",
      "source": [
        "shapiro_test = stats.shapiro(firefox_data_dissim_LDA)\n",
        "shapiro_test #Normal"
      ],
      "metadata": {
        "colab": {
          "base_uri": "https://localhost:8080/"
        },
        "id": "Exj8KwmOlonD",
        "outputId": "449770a6-0369-4d5c-b969-42e383906d14"
      },
      "execution_count": null,
      "outputs": [
        {
          "output_type": "execute_result",
          "data": {
            "text/plain": [
              "ShapiroResult(statistic=0.876839280128479, pvalue=0.14541181921958923)"
            ]
          },
          "metadata": {},
          "execution_count": 21
        }
      ]
    },
    {
      "cell_type": "code",
      "source": [
        "firefox_y = (0.0, 10.0, 13.5, 15.0, 16.0, 16.5, 17.0, 19.0, 20.5, 0, 6.5, 11.5, 13.0, 14.0, 15.0, 15.5, 17.5, 18.5)\n",
        "shapiro_test = stats.shapiro(firefox_y)\n",
        "shapiro_test #Not normal"
      ],
      "metadata": {
        "colab": {
          "base_uri": "https://localhost:8080/"
        },
        "id": "qFDsacEaOzuT",
        "outputId": "bd742c99-df5d-4130-dcf0-bad138ff9cf5"
      },
      "execution_count": null,
      "outputs": [
        {
          "output_type": "execute_result",
          "data": {
            "text/plain": [
              "ShapiroResult(statistic=0.8534695506095886, pvalue=0.00961035955697298)"
            ]
          },
          "metadata": {},
          "execution_count": 43
        }
      ]
    },
    {
      "cell_type": "markdown",
      "source": [
        "## Significance test (for Normal Distribution)"
      ],
      "metadata": {
        "id": "-DB47hgY-ixm"
      }
    },
    {
      "cell_type": "code",
      "source": [
        "# For normal distribution\n",
        "from scipy import stats\n",
        "t_value,p_value=stats.ttest_ind(Eclipse_data_sim_BM25,Eclipse_data_dissim_BM25)\n",
        "print('Test statistic is %f'%float(\"{:.6f}\".format(t_value)))\n",
        "print('p-value for two test is %f'%p_value)"
      ],
      "metadata": {
        "colab": {
          "base_uri": "https://localhost:8080/"
        },
        "id": "2JjsCZlVBd3V",
        "outputId": "f27f39ea-41a8-4aa6-c830-6fba06fcb6f2"
      },
      "execution_count": null,
      "outputs": [
        {
          "output_type": "stream",
          "name": "stdout",
          "text": [
            "Test statistic is 1.102723\n",
            "p-value for two test is 0.286458\n"
          ]
        }
      ]
    },
    {
      "cell_type": "code",
      "source": [
        "#Cohen suggested that d = 0.2 be considered a 'small' effect size, 0.5 represents a 'medium' effect size and 0.8 a 'large' effect size. \n",
        "from statistics import mean, stdev\n",
        "from math import sqrt\n",
        "cohens_d = (mean(Eclipse_data_sim_BM25) - mean(Eclipse_data_dissim_BM25)) / (sqrt((stdev(Eclipse_data_sim_BM25) ** 2 + stdev(Eclipse_data_dissim_BM25) ** 2) / 2))\n",
        "print(cohens_d) "
      ],
      "metadata": {
        "colab": {
          "base_uri": "https://localhost:8080/"
        },
        "id": "sG0WjIImZOTJ",
        "outputId": "84f97f96-528d-4b77-b5f9-3a56ae2f542e"
      },
      "execution_count": null,
      "outputs": [
        {
          "output_type": "stream",
          "name": "stdout",
          "text": [
            "0.5198287401606432\n"
          ]
        }
      ]
    },
    {
      "cell_type": "code",
      "source": [
        "from scipy import stats\n",
        "\n",
        "t_value,p_value=stats.ttest_ind(firefox_data_sim_BM25,firefox_data_dissim_BM25)\n",
        "print('Test statistic is %f'%float(\"{:.6f}\".format(t_value)))\n",
        "print('p-value for two test is %f'%p_value)"
      ],
      "metadata": {
        "colab": {
          "base_uri": "https://localhost:8080/"
        },
        "id": "DpBKEYwJNWuj",
        "outputId": "f067f282-916c-4dfa-8af9-e292b630f6ca"
      },
      "execution_count": null,
      "outputs": [
        {
          "output_type": "stream",
          "name": "stdout",
          "text": [
            "Test statistic is 2.334344\n",
            "p-value for two test is 0.032939\n"
          ]
        }
      ]
    },
    {
      "cell_type": "code",
      "source": [
        "#Cohen suggested that d = 0.2 be considered a 'small' effect size, 0.5 represents a 'medium' effect size and 0.8 a 'large' effect size. \n",
        "from statistics import mean, stdev\n",
        "from math import sqrt\n",
        "cohens_d = (mean(firefox_data_sim_BM25) - mean(firefox_data_dissim_BM25)) / (sqrt((stdev(firefox_data_sim_BM25) ** 2 + stdev(firefox_data_dissim_BM25) ** 2) / 2))\n",
        "print(cohens_d) "
      ],
      "metadata": {
        "colab": {
          "base_uri": "https://localhost:8080/"
        },
        "id": "Aj2VUcN9QIP8",
        "outputId": "b7fac964-fef3-45f3-89be-3e55b748bc47"
      },
      "execution_count": null,
      "outputs": [
        {
          "output_type": "stream",
          "name": "stdout",
          "text": [
            "1.1004201345465707\n"
          ]
        }
      ]
    },
    {
      "cell_type": "code",
      "source": [
        "from scipy import stats\n",
        "\n",
        "t_value,p_value=stats.ttest_ind(mobile_data_sim_BM25,mobile_data_dissim_BM25)\n",
        "print('Test statistic is %f'%float(\"{:.6f}\".format(t_value)))\n",
        "print('p-value for two test is %f'%p_value)"
      ],
      "metadata": {
        "colab": {
          "base_uri": "https://localhost:8080/"
        },
        "id": "JAum7O8fQIR6",
        "outputId": "bd7d9e04-c7df-4b7c-815e-e694a4ee2a89"
      },
      "execution_count": null,
      "outputs": [
        {
          "output_type": "stream",
          "name": "stdout",
          "text": [
            "Test statistic is 2.035977\n",
            "p-value for two test is 0.058659\n"
          ]
        }
      ]
    },
    {
      "cell_type": "code",
      "source": [
        "#Cohen suggested that d = 0.2 be considered a 'small' effect size, 0.5 represents a 'medium' effect size and 0.8 a 'large' effect size. \n",
        "from statistics import mean, stdev\n",
        "from math import sqrt\n",
        "cohens_d = (mean(mobile_data_sim_BM25) - mean(mobile_data_dissim_BM25)) / (sqrt((stdev(mobile_data_sim_BM25) ** 2 + stdev(mobile_data_dissim_BM25) ** 2) / 2))\n",
        "print(cohens_d) "
      ],
      "metadata": {
        "colab": {
          "base_uri": "https://localhost:8080/"
        },
        "id": "TMK0WUdkQIUH",
        "outputId": "4e9fd14a-9608-454f-cbf5-633bc6264815"
      },
      "execution_count": null,
      "outputs": [
        {
          "output_type": "stream",
          "name": "stdout",
          "text": [
            "0.9597685684155569\n"
          ]
        }
      ]
    },
    {
      "cell_type": "code",
      "source": [
        "from scipy import stats\n",
        "\n",
        "t_value,p_value=stats.ttest_ind(mobile_data_sim_LDA,mobile_data_dissim_LDA)\n",
        "print('Test statistic is %f'%float(\"{:.6f}\".format(t_value)))\n",
        "print('p-value for two test is %f'%p_value)"
      ],
      "metadata": {
        "colab": {
          "base_uri": "https://localhost:8080/"
        },
        "id": "BMg6O-yHQIYV",
        "outputId": "20cdedfa-3949-4079-d50b-f44a9bc91a14"
      },
      "execution_count": null,
      "outputs": [
        {
          "output_type": "stream",
          "name": "stdout",
          "text": [
            "Test statistic is 1.523661\n",
            "p-value for two test is 0.147113\n"
          ]
        }
      ]
    },
    {
      "cell_type": "code",
      "source": [
        "#Cohen suggested that d = 0.2 be considered a 'small' effect size, 0.5 represents a 'medium' effect size and 0.8 a 'large' effect size. \n",
        "from statistics import mean, stdev\n",
        "from math import sqrt\n",
        "cohens_d = (mean(mobile_data_sim_LDA) - mean(mobile_data_dissim_LDA)) / (sqrt((stdev(mobile_data_sim_LDA) ** 2 + stdev(mobile_data_dissim_LDA) ** 2) / 2))\n",
        "print(cohens_d) "
      ],
      "metadata": {
        "colab": {
          "base_uri": "https://localhost:8080/"
        },
        "id": "rLI1KwMaQIat",
        "outputId": "a7405b1c-558c-46ed-9daf-aa9ef3a4d5a4"
      },
      "execution_count": null,
      "outputs": [
        {
          "output_type": "stream",
          "name": "stdout",
          "text": [
            "0.7182607710234076\n"
          ]
        }
      ]
    },
    {
      "cell_type": "markdown",
      "source": [
        "## Significance test for non gaussian distribution"
      ],
      "metadata": {
        "id": "i3IkyhBkD77s"
      }
    },
    {
      "cell_type": "code",
      "source": [
        "pip install scipy pandas pingouin"
      ],
      "metadata": {
        "id": "fcMi5ad7DP6x"
      },
      "execution_count": null,
      "outputs": []
    },
    {
      "cell_type": "code",
      "source": [
        "from scipy.stats import mannwhitneyu\n",
        "from scipy import stats\n",
        "import matplotlib.pyplot as plt\n",
        "from scipy.stats import wilcoxon"
      ],
      "metadata": {
        "id": "Q2MLkPb4ENIb"
      },
      "execution_count": null,
      "outputs": []
    },
    {
      "cell_type": "code",
      "source": [
        "t_value ,p_value= stats.wilcoxon(Eclipse_data_sim_LDA, Eclipse_data_dissim_LDA)\n",
        "print('Test statistic is %f'%float(\"{:.6f}\".format(t_value)))\n",
        "print('p-value for two test is %f'%p_value)"
      ],
      "metadata": {
        "id": "1Rtaml4wvR2g"
      },
      "execution_count": null,
      "outputs": []
    },
    {
      "cell_type": "code",
      "source": [
        "t4_value,p4_value= stats.wilcoxon(firefox_data_sim_LDA, firefox_data_dissim_LDA)\n",
        "print('Test statistic is %f'%float(\"{:.6f}\".format(t4_value)))\n",
        "print('p-value for two test is %f'%p4_value)"
      ],
      "metadata": {
        "colab": {
          "base_uri": "https://localhost:8080/"
        },
        "id": "S3RhHB5BnFCC",
        "outputId": "ad6667f1-52d0-4799-8400-e09e564de22e"
      },
      "execution_count": null,
      "outputs": [
        {
          "output_type": "stream",
          "name": "stdout",
          "text": [
            "Test statistic is 0.000000\n",
            "p-value for two test is 0.010321\n"
          ]
        }
      ]
    },
    {
      "cell_type": "markdown",
      "source": [
        "## Effect size test"
      ],
      "metadata": {
        "id": "I_-hUnKvPNwj"
      }
    },
    {
      "cell_type": "code",
      "source": [
        "Eclipse_data_sim_LDA_list= list(Eclipse_data_sim_LDA)\n",
        "Eclipse_data_dissim_LDA_list = list(Eclipse_data_dissim_LDA)\n",
        "PyNonpar.twosample.wilcoxon_mann_whitney_test(Eclipse_data_sim_LDA_list, Eclipse_data_dissim_LDA_list, method= \"asymptotic\")"
      ],
      "metadata": {
        "colab": {
          "base_uri": "https://localhost:8080/"
        },
        "id": "oVQ5j6-_PzX2",
        "outputId": "91e5a31b-81b4-4616-8dc3-3bbbc312556f"
      },
      "execution_count": null,
      "outputs": [
        {
          "output_type": "execute_result",
          "data": {
            "text/plain": [
              "WilcoxonMannWhitneyResult(alternative='two.sided', statistic=-2.3928166928479344, HodgesLehmann=-6.0, lowerCI=-8.0, upperCI=-1.0, pvalue=0.016719591965191564)"
            ]
          },
          "metadata": {},
          "execution_count": 54
        }
      ]
    },
    {
      "cell_type": "code",
      "source": [
        "import math\n",
        "z = abs(-2.3928166928479344)\n",
        "n = 9\n",
        "r = z/math.sqrt(n)\n",
        "print(r) "
      ],
      "metadata": {
        "colab": {
          "base_uri": "https://localhost:8080/"
        },
        "id": "xzsFACMFpxwK",
        "outputId": "a000f145-19b5-423d-e626-f9a0ff44675f"
      },
      "execution_count": null,
      "outputs": [
        {
          "output_type": "stream",
          "name": "stdout",
          "text": [
            "0.7976055642826448\n"
          ]
        }
      ]
    },
    {
      "cell_type": "code",
      "source": [
        "#Effect size test\n",
        "firefox_data_sim_LDA_list= list(firefox_data_sim_LDA)\n",
        "firefox_data_dissim_LDA_list = list(firefox_data_dissim_LDA)\n",
        "PyNonpar.twosample.wilcoxon_mann_whitney_test(firefox_data_sim_LDA_list, firefox_data_dissim_LDA_list, method= \"asymptotic\")"
      ],
      "metadata": {
        "colab": {
          "base_uri": "https://localhost:8080/"
        },
        "outputId": "9443d269-87ac-41f5-cd9e-26ecbab5e7bf",
        "id": "MdQuX4TTTTfC"
      },
      "execution_count": null,
      "outputs": [
        {
          "output_type": "execute_result",
          "data": {
            "text/plain": [
              "WilcoxonMannWhitneyResult(alternative='two.sided', statistic=-0.9281309681857834, HodgesLehmann=-2.0, lowerCI=-6.5, upperCI=2.5, pvalue=0.35333963740798124)"
            ]
          },
          "metadata": {},
          "execution_count": 56
        }
      ]
    },
    {
      "cell_type": "code",
      "source": [
        "import math\n",
        "z = abs(-0.9281309681857834)\n",
        "n = 9\n",
        "r = z/math.sqrt(n)\n",
        "print(r) "
      ],
      "metadata": {
        "colab": {
          "base_uri": "https://localhost:8080/"
        },
        "outputId": "9c65db04-53d2-40b5-ef87-f96f154f0207",
        "id": "QWoVoaHCTTfD"
      },
      "execution_count": null,
      "outputs": [
        {
          "output_type": "stream",
          "name": "stdout",
          "text": [
            "0.30937698939526115\n"
          ]
        }
      ]
    },
    {
      "cell_type": "markdown",
      "source": [
        "## Result difference for Siamese deep learning approach"
      ],
      "metadata": {
        "id": "khOuY2WBG0ds"
      }
    },
    {
      "cell_type": "code",
      "source": [
        "# F1 score from eclipse\n",
        "\n",
        "a = 47.00 #Textually similar)\n",
        "b = 34.00 #Textually dissimilar\n",
        "\n",
        "if a<b:\n",
        "  result = float(((b - a) * 100) / a)\n",
        "  print(result, \"%\")\n",
        "else:\n",
        "  result = float(((a - b) * 100) / b)\n",
        "  print(result, \"%\")"
      ],
      "metadata": {
        "id": "7CjfxvEFG5A4"
      },
      "execution_count": null,
      "outputs": []
    },
    {
      "cell_type": "code",
      "source": [
        "# F1 score from firefox\n",
        "\n",
        "a = 37.00 #Textually similar)\n",
        "b = 36.00 #Textually dissimilar\n",
        "\n",
        "if a<b:\n",
        "  result = float(((b - a) * 100) / a)\n",
        "  print(result, \"%\")\n",
        "else:\n",
        "  result = float(((a - b) * 100) / b)\n",
        "  print(result, \"%\")"
      ],
      "metadata": {
        "id": "b39vSy0hIpla"
      },
      "execution_count": null,
      "outputs": []
    }
  ]
}