{
  "nbformat": 4,
  "nbformat_minor": 0,
  "metadata": {
    "colab": {
      "provenance": []
    },
    "kernelspec": {
      "name": "python3",
      "display_name": "Python 3"
    },
    "language_info": {
      "name": "python"
    }
  },
  "cells": [
    {
      "cell_type": "code",
      "source": [
        "#importing necessary libraries \n",
        "import pandas as pd\n",
        "import nltk\n",
        "import gensim\n",
        "from gensim.utils import simple_preprocess\n",
        "from nltk.corpus import stopwords\n",
        "from nltk import word_tokenize\n",
        "from nltk.stem import WordNetLemmatizer, SnowballStemmer\n",
        "from nltk.stem.porter import *\n",
        "from gensim.parsing.preprocessing import STOPWORDS\n",
        "import numpy as np\n",
        "import pickle\n",
        "nltk.download('stopwords')\n",
        "nltk.download('wordnet')\n",
        "from typing import List, Dict, Tuple, Set\n",
        "import itertools\n",
        "import warnings\n",
        "warnings.filterwarnings(\"ignore\", category=DeprecationWarning)\n",
        "import pickle\n",
        "import requests\n",
        "import json\n",
        "import urllib.request\n",
        "import time\n",
        "from bs4 import BeautifulSoup\n",
        "from sklearn.feature_extraction.text import TfidfVectorizer\n",
        "from nltk.stem import PorterStemmer\n",
        "import re\n",
        "from sklearn.metrics.pairwise import cosine_similarity\n",
        "import statistics\n",
        "from datetime import datetime\n",
        "from scipy.stats import skew\n",
        "from sklearn.datasets import make_circles\n",
        "from sklearn.metrics import accuracy_score\n",
        "from sklearn.metrics import precision_score\n",
        "from sklearn.metrics import recall_score\n",
        "from sklearn.metrics import f1_score\n",
        "from sklearn.metrics import cohen_kappa_score\n",
        "from sklearn.metrics import roc_auc_score\n",
        "from sklearn.metrics import confusion_matrix\n",
        "from keras.models import Sequential\n",
        "from keras.layers import Dense"
      ],
      "metadata": {
        "id": "YBc2CtGYZTCO"
      },
      "execution_count": null,
      "outputs": []
    },
    {
      "cell_type": "code",
      "source": [
        "#mounting the google drive\n",
        "from google.colab import drive\n",
        "drive.mount('/content/drive')"
      ],
      "metadata": {
        "id": "GXIfn-rvu7pd"
      },
      "execution_count": null,
      "outputs": []
    },
    {
      "cell_type": "markdown",
      "source": [
        "## Reading dataset"
      ],
      "metadata": {
        "id": "77GiYleYVlax"
      }
    },
    {
      "cell_type": "code",
      "source": [
        "#importing the CSV file of the dataset from google drive into a dataframe\n",
        "train_eclipse_df=pd.read_csv('drive/MyDrive/Project 6308 + ICSME/Dataset Pre-processing/Dataset for Siamese model /Eclipse_siamese_train_preprocessed.csv')\n",
        "train_eclipse_df"
      ],
      "metadata": {
        "colab": {
          "base_uri": "https://localhost:8080/",
          "height": 423
        },
        "id": "a82T-YTgU1nb",
        "outputId": "b4c7b9c1-907f-420e-c3fe-0ae4e81b7a61"
      },
      "execution_count": null,
      "outputs": [
        {
          "output_type": "execute_result",
          "data": {
            "text/plain": [
              "       Unnamed: 0                                       description1  \\\n",
              "0               0    investigate changes required for jep    maco...   \n",
              "1               2    oshi allows to access hard disk info  let s ...   \n",
              "2               3    details of this problem have been discussed ...   \n",
              "3               4    created attachment   example  hello  can you...   \n",
              "4               5    rename module path container from  module so...   \n",
              "...           ...                                                ...   \n",
              "34490       36402    if a miner fails for some reason  now it is ...   \n",
              "34491       36403    created attachment   unsolved imports   upgr...   \n",
              "34492       36404    in the coming days weeks we will migrate the...   \n",
              "34493       36405    the view model editor should provide proper ...   \n",
              "34494       36406    hi   we have some issues regarding the gitla...   \n",
              "\n",
              "                                            description2  is_similar  \n",
              "0        older api has limitations   that require ugl...           0  \n",
              "1        created attachment   screenshot     set maco...           0  \n",
              "2        originally from    method signature selectio...           1  \n",
              "3        partontopmanager uses  eventtopic instead of...           0  \n",
              "4        created attachment   workspace log  i have a...           0  \n",
              "...                                                  ...         ...  \n",
              "34490    i install oprofile plugin of eclipse on linu...           0  \n",
              "34491    expected result  record r  implements i but ...           0  \n",
              "34492    consider the following code  public sealed c...           0  \n",
              "34493     terminate all  does only terminate one proc...           0  \n",
              "34494    tbh  i never understood why oomph has an adv...           0  \n",
              "\n",
              "[34495 rows x 4 columns]"
            ],
            "text/html": [
              "\n",
              "  <div id=\"df-65ec6b5a-16b6-473d-afb8-7a434b5ed1d8\">\n",
              "    <div class=\"colab-df-container\">\n",
              "      <div>\n",
              "<style scoped>\n",
              "    .dataframe tbody tr th:only-of-type {\n",
              "        vertical-align: middle;\n",
              "    }\n",
              "\n",
              "    .dataframe tbody tr th {\n",
              "        vertical-align: top;\n",
              "    }\n",
              "\n",
              "    .dataframe thead th {\n",
              "        text-align: right;\n",
              "    }\n",
              "</style>\n",
              "<table border=\"1\" class=\"dataframe\">\n",
              "  <thead>\n",
              "    <tr style=\"text-align: right;\">\n",
              "      <th></th>\n",
              "      <th>Unnamed: 0</th>\n",
              "      <th>description1</th>\n",
              "      <th>description2</th>\n",
              "      <th>is_similar</th>\n",
              "    </tr>\n",
              "  </thead>\n",
              "  <tbody>\n",
              "    <tr>\n",
              "      <th>0</th>\n",
              "      <td>0</td>\n",
              "      <td>investigate changes required for jep    maco...</td>\n",
              "      <td>older api has limitations   that require ugl...</td>\n",
              "      <td>0</td>\n",
              "    </tr>\n",
              "    <tr>\n",
              "      <th>1</th>\n",
              "      <td>2</td>\n",
              "      <td>oshi allows to access hard disk info  let s ...</td>\n",
              "      <td>created attachment   screenshot     set maco...</td>\n",
              "      <td>0</td>\n",
              "    </tr>\n",
              "    <tr>\n",
              "      <th>2</th>\n",
              "      <td>3</td>\n",
              "      <td>details of this problem have been discussed ...</td>\n",
              "      <td>originally from    method signature selectio...</td>\n",
              "      <td>1</td>\n",
              "    </tr>\n",
              "    <tr>\n",
              "      <th>3</th>\n",
              "      <td>4</td>\n",
              "      <td>created attachment   example  hello  can you...</td>\n",
              "      <td>partontopmanager uses  eventtopic instead of...</td>\n",
              "      <td>0</td>\n",
              "    </tr>\n",
              "    <tr>\n",
              "      <th>4</th>\n",
              "      <td>5</td>\n",
              "      <td>rename module path container from  module so...</td>\n",
              "      <td>created attachment   workspace log  i have a...</td>\n",
              "      <td>0</td>\n",
              "    </tr>\n",
              "    <tr>\n",
              "      <th>...</th>\n",
              "      <td>...</td>\n",
              "      <td>...</td>\n",
              "      <td>...</td>\n",
              "      <td>...</td>\n",
              "    </tr>\n",
              "    <tr>\n",
              "      <th>34490</th>\n",
              "      <td>36402</td>\n",
              "      <td>if a miner fails for some reason  now it is ...</td>\n",
              "      <td>i install oprofile plugin of eclipse on linu...</td>\n",
              "      <td>0</td>\n",
              "    </tr>\n",
              "    <tr>\n",
              "      <th>34491</th>\n",
              "      <td>36403</td>\n",
              "      <td>created attachment   unsolved imports   upgr...</td>\n",
              "      <td>expected result  record r  implements i but ...</td>\n",
              "      <td>0</td>\n",
              "    </tr>\n",
              "    <tr>\n",
              "      <th>34492</th>\n",
              "      <td>36404</td>\n",
              "      <td>in the coming days weeks we will migrate the...</td>\n",
              "      <td>consider the following code  public sealed c...</td>\n",
              "      <td>0</td>\n",
              "    </tr>\n",
              "    <tr>\n",
              "      <th>34493</th>\n",
              "      <td>36405</td>\n",
              "      <td>the view model editor should provide proper ...</td>\n",
              "      <td>terminate all  does only terminate one proc...</td>\n",
              "      <td>0</td>\n",
              "    </tr>\n",
              "    <tr>\n",
              "      <th>34494</th>\n",
              "      <td>36406</td>\n",
              "      <td>hi   we have some issues regarding the gitla...</td>\n",
              "      <td>tbh  i never understood why oomph has an adv...</td>\n",
              "      <td>0</td>\n",
              "    </tr>\n",
              "  </tbody>\n",
              "</table>\n",
              "<p>34495 rows × 4 columns</p>\n",
              "</div>\n",
              "      <button class=\"colab-df-convert\" onclick=\"convertToInteractive('df-65ec6b5a-16b6-473d-afb8-7a434b5ed1d8')\"\n",
              "              title=\"Convert this dataframe to an interactive table.\"\n",
              "              style=\"display:none;\">\n",
              "        \n",
              "  <svg xmlns=\"http://www.w3.org/2000/svg\" height=\"24px\"viewBox=\"0 0 24 24\"\n",
              "       width=\"24px\">\n",
              "    <path d=\"M0 0h24v24H0V0z\" fill=\"none\"/>\n",
              "    <path d=\"M18.56 5.44l.94 2.06.94-2.06 2.06-.94-2.06-.94-.94-2.06-.94 2.06-2.06.94zm-11 1L8.5 8.5l.94-2.06 2.06-.94-2.06-.94L8.5 2.5l-.94 2.06-2.06.94zm10 10l.94 2.06.94-2.06 2.06-.94-2.06-.94-.94-2.06-.94 2.06-2.06.94z\"/><path d=\"M17.41 7.96l-1.37-1.37c-.4-.4-.92-.59-1.43-.59-.52 0-1.04.2-1.43.59L10.3 9.45l-7.72 7.72c-.78.78-.78 2.05 0 2.83L4 21.41c.39.39.9.59 1.41.59.51 0 1.02-.2 1.41-.59l7.78-7.78 2.81-2.81c.8-.78.8-2.07 0-2.86zM5.41 20L4 18.59l7.72-7.72 1.47 1.35L5.41 20z\"/>\n",
              "  </svg>\n",
              "      </button>\n",
              "      \n",
              "  <style>\n",
              "    .colab-df-container {\n",
              "      display:flex;\n",
              "      flex-wrap:wrap;\n",
              "      gap: 12px;\n",
              "    }\n",
              "\n",
              "    .colab-df-convert {\n",
              "      background-color: #E8F0FE;\n",
              "      border: none;\n",
              "      border-radius: 50%;\n",
              "      cursor: pointer;\n",
              "      display: none;\n",
              "      fill: #1967D2;\n",
              "      height: 32px;\n",
              "      padding: 0 0 0 0;\n",
              "      width: 32px;\n",
              "    }\n",
              "\n",
              "    .colab-df-convert:hover {\n",
              "      background-color: #E2EBFA;\n",
              "      box-shadow: 0px 1px 2px rgba(60, 64, 67, 0.3), 0px 1px 3px 1px rgba(60, 64, 67, 0.15);\n",
              "      fill: #174EA6;\n",
              "    }\n",
              "\n",
              "    [theme=dark] .colab-df-convert {\n",
              "      background-color: #3B4455;\n",
              "      fill: #D2E3FC;\n",
              "    }\n",
              "\n",
              "    [theme=dark] .colab-df-convert:hover {\n",
              "      background-color: #434B5C;\n",
              "      box-shadow: 0px 1px 3px 1px rgba(0, 0, 0, 0.15);\n",
              "      filter: drop-shadow(0px 1px 2px rgba(0, 0, 0, 0.3));\n",
              "      fill: #FFFFFF;\n",
              "    }\n",
              "  </style>\n",
              "\n",
              "      <script>\n",
              "        const buttonEl =\n",
              "          document.querySelector('#df-65ec6b5a-16b6-473d-afb8-7a434b5ed1d8 button.colab-df-convert');\n",
              "        buttonEl.style.display =\n",
              "          google.colab.kernel.accessAllowed ? 'block' : 'none';\n",
              "\n",
              "        async function convertToInteractive(key) {\n",
              "          const element = document.querySelector('#df-65ec6b5a-16b6-473d-afb8-7a434b5ed1d8');\n",
              "          const dataTable =\n",
              "            await google.colab.kernel.invokeFunction('convertToInteractive',\n",
              "                                                     [key], {});\n",
              "          if (!dataTable) return;\n",
              "\n",
              "          const docLinkHtml = 'Like what you see? Visit the ' +\n",
              "            '<a target=\"_blank\" href=https://colab.research.google.com/notebooks/data_table.ipynb>data table notebook</a>'\n",
              "            + ' to learn more about interactive tables.';\n",
              "          element.innerHTML = '';\n",
              "          dataTable['output_type'] = 'display_data';\n",
              "          await google.colab.output.renderOutput(dataTable, element);\n",
              "          const docLink = document.createElement('div');\n",
              "          docLink.innerHTML = docLinkHtml;\n",
              "          element.appendChild(docLink);\n",
              "        }\n",
              "      </script>\n",
              "    </div>\n",
              "  </div>\n",
              "  "
            ]
          },
          "metadata": {},
          "execution_count": 3
        }
      ]
    },
    {
      "cell_type": "code",
      "source": [
        "#importing the CSV file of the dataset from google drive into a dataframe\n",
        "test_eclipse_df=pd.read_csv('drive/MyDrive/Project 6308 + ICSME/Dataset Pre-processing/Dataset for Siamese model /Eclipse_siamese_textually_similar_test_duplicates_preprocessed.csv')\n",
        "test_eclipse_df"
      ],
      "metadata": {
        "colab": {
          "base_uri": "https://localhost:8080/",
          "height": 423
        },
        "id": "FKNb9p7tVkhS",
        "outputId": "b7281c2f-1b74-41d6-b8bb-2535b9959029"
      },
      "execution_count": null,
      "outputs": [
        {
          "output_type": "execute_result",
          "data": {
            "text/plain": [
              "     Unnamed: 0                                       description1  \\\n",
              "0             0    installing eclipse     via eclipse inst   ex...   \n",
              "1             1    when enabling parallel builds warnings are r...   \n",
              "2             2    if i start my eclipse on    i get   java lan...   \n",
              "3             3    hello   i installed the eclipse modeling too...   \n",
              "4             4    open a requirejs module file    select one o...   \n",
              "..          ...                                                ...   \n",
              "678         681       configuration details    product  eclipse...   \n",
              "679         682       most of the time when i use  open type  i...   \n",
              "680         683    eclipse is located under c  program files ec...   \n",
              "681         684    hello  setting background for the items in t...   \n",
              "682         685    created attachment   image of steps to repro...   \n",
              "\n",
              "                                          description2  is_similar  \n",
              "0      error present while building maven project w...           0  \n",
              "1      when i try to run my build in parallel using...           1  \n",
              "2      codefragments     internal platform   java  ...           1  \n",
              "3      hello   i installed the eclipse modeling too...           1  \n",
              "4      created attachment   error screenshot  conte...           0  \n",
              "..                                                 ...         ...  \n",
              "678       configuration details    product  eclipse...           1  \n",
              "679    created attachment   oomph startup error  wh...           0  \n",
              "680    the fix for bug   added quoting around the c...           1  \n",
              "681    using swt      if you set the background   o...           1  \n",
              "682    using the current release of eclipse      mo...           1  \n",
              "\n",
              "[683 rows x 4 columns]"
            ],
            "text/html": [
              "\n",
              "  <div id=\"df-043ab1fa-ae0b-46f6-91e3-162fdb31ac01\">\n",
              "    <div class=\"colab-df-container\">\n",
              "      <div>\n",
              "<style scoped>\n",
              "    .dataframe tbody tr th:only-of-type {\n",
              "        vertical-align: middle;\n",
              "    }\n",
              "\n",
              "    .dataframe tbody tr th {\n",
              "        vertical-align: top;\n",
              "    }\n",
              "\n",
              "    .dataframe thead th {\n",
              "        text-align: right;\n",
              "    }\n",
              "</style>\n",
              "<table border=\"1\" class=\"dataframe\">\n",
              "  <thead>\n",
              "    <tr style=\"text-align: right;\">\n",
              "      <th></th>\n",
              "      <th>Unnamed: 0</th>\n",
              "      <th>description1</th>\n",
              "      <th>description2</th>\n",
              "      <th>is_similar</th>\n",
              "    </tr>\n",
              "  </thead>\n",
              "  <tbody>\n",
              "    <tr>\n",
              "      <th>0</th>\n",
              "      <td>0</td>\n",
              "      <td>installing eclipse     via eclipse inst   ex...</td>\n",
              "      <td>error present while building maven project w...</td>\n",
              "      <td>0</td>\n",
              "    </tr>\n",
              "    <tr>\n",
              "      <th>1</th>\n",
              "      <td>1</td>\n",
              "      <td>when enabling parallel builds warnings are r...</td>\n",
              "      <td>when i try to run my build in parallel using...</td>\n",
              "      <td>1</td>\n",
              "    </tr>\n",
              "    <tr>\n",
              "      <th>2</th>\n",
              "      <td>2</td>\n",
              "      <td>if i start my eclipse on    i get   java lan...</td>\n",
              "      <td>codefragments     internal platform   java  ...</td>\n",
              "      <td>1</td>\n",
              "    </tr>\n",
              "    <tr>\n",
              "      <th>3</th>\n",
              "      <td>3</td>\n",
              "      <td>hello   i installed the eclipse modeling too...</td>\n",
              "      <td>hello   i installed the eclipse modeling too...</td>\n",
              "      <td>1</td>\n",
              "    </tr>\n",
              "    <tr>\n",
              "      <th>4</th>\n",
              "      <td>4</td>\n",
              "      <td>open a requirejs module file    select one o...</td>\n",
              "      <td>created attachment   error screenshot  conte...</td>\n",
              "      <td>0</td>\n",
              "    </tr>\n",
              "    <tr>\n",
              "      <th>...</th>\n",
              "      <td>...</td>\n",
              "      <td>...</td>\n",
              "      <td>...</td>\n",
              "      <td>...</td>\n",
              "    </tr>\n",
              "    <tr>\n",
              "      <th>678</th>\n",
              "      <td>681</td>\n",
              "      <td>configuration details    product  eclipse...</td>\n",
              "      <td>configuration details    product  eclipse...</td>\n",
              "      <td>1</td>\n",
              "    </tr>\n",
              "    <tr>\n",
              "      <th>679</th>\n",
              "      <td>682</td>\n",
              "      <td>most of the time when i use  open type  i...</td>\n",
              "      <td>created attachment   oomph startup error  wh...</td>\n",
              "      <td>0</td>\n",
              "    </tr>\n",
              "    <tr>\n",
              "      <th>680</th>\n",
              "      <td>683</td>\n",
              "      <td>eclipse is located under c  program files ec...</td>\n",
              "      <td>the fix for bug   added quoting around the c...</td>\n",
              "      <td>1</td>\n",
              "    </tr>\n",
              "    <tr>\n",
              "      <th>681</th>\n",
              "      <td>684</td>\n",
              "      <td>hello  setting background for the items in t...</td>\n",
              "      <td>using swt      if you set the background   o...</td>\n",
              "      <td>1</td>\n",
              "    </tr>\n",
              "    <tr>\n",
              "      <th>682</th>\n",
              "      <td>685</td>\n",
              "      <td>created attachment   image of steps to repro...</td>\n",
              "      <td>using the current release of eclipse      mo...</td>\n",
              "      <td>1</td>\n",
              "    </tr>\n",
              "  </tbody>\n",
              "</table>\n",
              "<p>683 rows × 4 columns</p>\n",
              "</div>\n",
              "      <button class=\"colab-df-convert\" onclick=\"convertToInteractive('df-043ab1fa-ae0b-46f6-91e3-162fdb31ac01')\"\n",
              "              title=\"Convert this dataframe to an interactive table.\"\n",
              "              style=\"display:none;\">\n",
              "        \n",
              "  <svg xmlns=\"http://www.w3.org/2000/svg\" height=\"24px\"viewBox=\"0 0 24 24\"\n",
              "       width=\"24px\">\n",
              "    <path d=\"M0 0h24v24H0V0z\" fill=\"none\"/>\n",
              "    <path d=\"M18.56 5.44l.94 2.06.94-2.06 2.06-.94-2.06-.94-.94-2.06-.94 2.06-2.06.94zm-11 1L8.5 8.5l.94-2.06 2.06-.94-2.06-.94L8.5 2.5l-.94 2.06-2.06.94zm10 10l.94 2.06.94-2.06 2.06-.94-2.06-.94-.94-2.06-.94 2.06-2.06.94z\"/><path d=\"M17.41 7.96l-1.37-1.37c-.4-.4-.92-.59-1.43-.59-.52 0-1.04.2-1.43.59L10.3 9.45l-7.72 7.72c-.78.78-.78 2.05 0 2.83L4 21.41c.39.39.9.59 1.41.59.51 0 1.02-.2 1.41-.59l7.78-7.78 2.81-2.81c.8-.78.8-2.07 0-2.86zM5.41 20L4 18.59l7.72-7.72 1.47 1.35L5.41 20z\"/>\n",
              "  </svg>\n",
              "      </button>\n",
              "      \n",
              "  <style>\n",
              "    .colab-df-container {\n",
              "      display:flex;\n",
              "      flex-wrap:wrap;\n",
              "      gap: 12px;\n",
              "    }\n",
              "\n",
              "    .colab-df-convert {\n",
              "      background-color: #E8F0FE;\n",
              "      border: none;\n",
              "      border-radius: 50%;\n",
              "      cursor: pointer;\n",
              "      display: none;\n",
              "      fill: #1967D2;\n",
              "      height: 32px;\n",
              "      padding: 0 0 0 0;\n",
              "      width: 32px;\n",
              "    }\n",
              "\n",
              "    .colab-df-convert:hover {\n",
              "      background-color: #E2EBFA;\n",
              "      box-shadow: 0px 1px 2px rgba(60, 64, 67, 0.3), 0px 1px 3px 1px rgba(60, 64, 67, 0.15);\n",
              "      fill: #174EA6;\n",
              "    }\n",
              "\n",
              "    [theme=dark] .colab-df-convert {\n",
              "      background-color: #3B4455;\n",
              "      fill: #D2E3FC;\n",
              "    }\n",
              "\n",
              "    [theme=dark] .colab-df-convert:hover {\n",
              "      background-color: #434B5C;\n",
              "      box-shadow: 0px 1px 3px 1px rgba(0, 0, 0, 0.15);\n",
              "      filter: drop-shadow(0px 1px 2px rgba(0, 0, 0, 0.3));\n",
              "      fill: #FFFFFF;\n",
              "    }\n",
              "  </style>\n",
              "\n",
              "      <script>\n",
              "        const buttonEl =\n",
              "          document.querySelector('#df-043ab1fa-ae0b-46f6-91e3-162fdb31ac01 button.colab-df-convert');\n",
              "        buttonEl.style.display =\n",
              "          google.colab.kernel.accessAllowed ? 'block' : 'none';\n",
              "\n",
              "        async function convertToInteractive(key) {\n",
              "          const element = document.querySelector('#df-043ab1fa-ae0b-46f6-91e3-162fdb31ac01');\n",
              "          const dataTable =\n",
              "            await google.colab.kernel.invokeFunction('convertToInteractive',\n",
              "                                                     [key], {});\n",
              "          if (!dataTable) return;\n",
              "\n",
              "          const docLinkHtml = 'Like what you see? Visit the ' +\n",
              "            '<a target=\"_blank\" href=https://colab.research.google.com/notebooks/data_table.ipynb>data table notebook</a>'\n",
              "            + ' to learn more about interactive tables.';\n",
              "          element.innerHTML = '';\n",
              "          dataTable['output_type'] = 'display_data';\n",
              "          await google.colab.output.renderOutput(dataTable, element);\n",
              "          const docLink = document.createElement('div');\n",
              "          docLink.innerHTML = docLinkHtml;\n",
              "          element.appendChild(docLink);\n",
              "        }\n",
              "      </script>\n",
              "    </div>\n",
              "  </div>\n",
              "  "
            ]
          },
          "metadata": {},
          "execution_count": 4
        }
      ]
    },
    {
      "cell_type": "code",
      "source": [
        "#Merge train & test\n",
        "frames = [train_eclipse_df, test_eclipse_df]\n",
        "result = pd.concat(frames)\n",
        "result = result.sample(frac=1, random_state=1).reset_index(drop=True)\n",
        "result1 = result.copy()\n",
        "dup_df= result.copy()\n",
        "dup_df"
      ],
      "metadata": {
        "colab": {
          "base_uri": "https://localhost:8080/",
          "height": 423
        },
        "id": "Q9mDbnx-YOhp",
        "outputId": "4fe8d9e8-e9ef-417b-ae46-49dd88aa9463"
      },
      "execution_count": null,
      "outputs": [
        {
          "output_type": "execute_result",
          "data": {
            "text/plain": [
              "       Unnamed: 0                                       description1  \\\n",
              "0           20005    when trying to compile   fiber blob master s...   \n",
              "1           28460    created attachment   current menu  the menu ...   \n",
              "2            4093    created attachment   screenshot of missing t...   \n",
              "3            2894    running mvn clean verify in top level dir le...   \n",
              "4           20821    we need to port the core and resource tests ...   \n",
              "...           ...                                                ...   \n",
              "35173        8241    after bug   it seems unnecessary to listen t...   \n",
              "35174       34307    the data provider documentation is incomplet...   \n",
              "35175        5478    it is not uncommon to use multiple levels of...   \n",
              "35176       12835    the registered downloads are filtered by pla...   \n",
              "35177       34825    i created a custom fb type with an adapter  ...   \n",
              "\n",
              "                                            description2  is_similar  \n",
              "0        enable tab support in the editor  now type a...           0  \n",
              "1        after adding an inline comment on     and pr...           0  \n",
              "2        classpathjrtwithreleaseoption overrides clas...           0  \n",
              "3        an internal error occurred during   check rc...           0  \n",
              "4        the newly introduced  detach  menu item in t...           0  \n",
              "...                                                  ...         ...  \n",
              "35173    the jsonforms export should support the expo...           0  \n",
              "35174    hello webmaster   please delete branch  jona...           0  \n",
              "35175    the label  restore from local history     is...           0  \n",
              "35176    use case  user wants to download an eclipse ...           0  \n",
              "35177    the  target editor misses error markers  and...           0  \n",
              "\n",
              "[35178 rows x 4 columns]"
            ],
            "text/html": [
              "\n",
              "  <div id=\"df-4d723d1a-8720-4777-9fb8-5972c18be296\">\n",
              "    <div class=\"colab-df-container\">\n",
              "      <div>\n",
              "<style scoped>\n",
              "    .dataframe tbody tr th:only-of-type {\n",
              "        vertical-align: middle;\n",
              "    }\n",
              "\n",
              "    .dataframe tbody tr th {\n",
              "        vertical-align: top;\n",
              "    }\n",
              "\n",
              "    .dataframe thead th {\n",
              "        text-align: right;\n",
              "    }\n",
              "</style>\n",
              "<table border=\"1\" class=\"dataframe\">\n",
              "  <thead>\n",
              "    <tr style=\"text-align: right;\">\n",
              "      <th></th>\n",
              "      <th>Unnamed: 0</th>\n",
              "      <th>description1</th>\n",
              "      <th>description2</th>\n",
              "      <th>is_similar</th>\n",
              "    </tr>\n",
              "  </thead>\n",
              "  <tbody>\n",
              "    <tr>\n",
              "      <th>0</th>\n",
              "      <td>20005</td>\n",
              "      <td>when trying to compile   fiber blob master s...</td>\n",
              "      <td>enable tab support in the editor  now type a...</td>\n",
              "      <td>0</td>\n",
              "    </tr>\n",
              "    <tr>\n",
              "      <th>1</th>\n",
              "      <td>28460</td>\n",
              "      <td>created attachment   current menu  the menu ...</td>\n",
              "      <td>after adding an inline comment on     and pr...</td>\n",
              "      <td>0</td>\n",
              "    </tr>\n",
              "    <tr>\n",
              "      <th>2</th>\n",
              "      <td>4093</td>\n",
              "      <td>created attachment   screenshot of missing t...</td>\n",
              "      <td>classpathjrtwithreleaseoption overrides clas...</td>\n",
              "      <td>0</td>\n",
              "    </tr>\n",
              "    <tr>\n",
              "      <th>3</th>\n",
              "      <td>2894</td>\n",
              "      <td>running mvn clean verify in top level dir le...</td>\n",
              "      <td>an internal error occurred during   check rc...</td>\n",
              "      <td>0</td>\n",
              "    </tr>\n",
              "    <tr>\n",
              "      <th>4</th>\n",
              "      <td>20821</td>\n",
              "      <td>we need to port the core and resource tests ...</td>\n",
              "      <td>the newly introduced  detach  menu item in t...</td>\n",
              "      <td>0</td>\n",
              "    </tr>\n",
              "    <tr>\n",
              "      <th>...</th>\n",
              "      <td>...</td>\n",
              "      <td>...</td>\n",
              "      <td>...</td>\n",
              "      <td>...</td>\n",
              "    </tr>\n",
              "    <tr>\n",
              "      <th>35173</th>\n",
              "      <td>8241</td>\n",
              "      <td>after bug   it seems unnecessary to listen t...</td>\n",
              "      <td>the jsonforms export should support the expo...</td>\n",
              "      <td>0</td>\n",
              "    </tr>\n",
              "    <tr>\n",
              "      <th>35174</th>\n",
              "      <td>34307</td>\n",
              "      <td>the data provider documentation is incomplet...</td>\n",
              "      <td>hello webmaster   please delete branch  jona...</td>\n",
              "      <td>0</td>\n",
              "    </tr>\n",
              "    <tr>\n",
              "      <th>35175</th>\n",
              "      <td>5478</td>\n",
              "      <td>it is not uncommon to use multiple levels of...</td>\n",
              "      <td>the label  restore from local history     is...</td>\n",
              "      <td>0</td>\n",
              "    </tr>\n",
              "    <tr>\n",
              "      <th>35176</th>\n",
              "      <td>12835</td>\n",
              "      <td>the registered downloads are filtered by pla...</td>\n",
              "      <td>use case  user wants to download an eclipse ...</td>\n",
              "      <td>0</td>\n",
              "    </tr>\n",
              "    <tr>\n",
              "      <th>35177</th>\n",
              "      <td>34825</td>\n",
              "      <td>i created a custom fb type with an adapter  ...</td>\n",
              "      <td>the  target editor misses error markers  and...</td>\n",
              "      <td>0</td>\n",
              "    </tr>\n",
              "  </tbody>\n",
              "</table>\n",
              "<p>35178 rows × 4 columns</p>\n",
              "</div>\n",
              "      <button class=\"colab-df-convert\" onclick=\"convertToInteractive('df-4d723d1a-8720-4777-9fb8-5972c18be296')\"\n",
              "              title=\"Convert this dataframe to an interactive table.\"\n",
              "              style=\"display:none;\">\n",
              "        \n",
              "  <svg xmlns=\"http://www.w3.org/2000/svg\" height=\"24px\"viewBox=\"0 0 24 24\"\n",
              "       width=\"24px\">\n",
              "    <path d=\"M0 0h24v24H0V0z\" fill=\"none\"/>\n",
              "    <path d=\"M18.56 5.44l.94 2.06.94-2.06 2.06-.94-2.06-.94-.94-2.06-.94 2.06-2.06.94zm-11 1L8.5 8.5l.94-2.06 2.06-.94-2.06-.94L8.5 2.5l-.94 2.06-2.06.94zm10 10l.94 2.06.94-2.06 2.06-.94-2.06-.94-.94-2.06-.94 2.06-2.06.94z\"/><path d=\"M17.41 7.96l-1.37-1.37c-.4-.4-.92-.59-1.43-.59-.52 0-1.04.2-1.43.59L10.3 9.45l-7.72 7.72c-.78.78-.78 2.05 0 2.83L4 21.41c.39.39.9.59 1.41.59.51 0 1.02-.2 1.41-.59l7.78-7.78 2.81-2.81c.8-.78.8-2.07 0-2.86zM5.41 20L4 18.59l7.72-7.72 1.47 1.35L5.41 20z\"/>\n",
              "  </svg>\n",
              "      </button>\n",
              "      \n",
              "  <style>\n",
              "    .colab-df-container {\n",
              "      display:flex;\n",
              "      flex-wrap:wrap;\n",
              "      gap: 12px;\n",
              "    }\n",
              "\n",
              "    .colab-df-convert {\n",
              "      background-color: #E8F0FE;\n",
              "      border: none;\n",
              "      border-radius: 50%;\n",
              "      cursor: pointer;\n",
              "      display: none;\n",
              "      fill: #1967D2;\n",
              "      height: 32px;\n",
              "      padding: 0 0 0 0;\n",
              "      width: 32px;\n",
              "    }\n",
              "\n",
              "    .colab-df-convert:hover {\n",
              "      background-color: #E2EBFA;\n",
              "      box-shadow: 0px 1px 2px rgba(60, 64, 67, 0.3), 0px 1px 3px 1px rgba(60, 64, 67, 0.15);\n",
              "      fill: #174EA6;\n",
              "    }\n",
              "\n",
              "    [theme=dark] .colab-df-convert {\n",
              "      background-color: #3B4455;\n",
              "      fill: #D2E3FC;\n",
              "    }\n",
              "\n",
              "    [theme=dark] .colab-df-convert:hover {\n",
              "      background-color: #434B5C;\n",
              "      box-shadow: 0px 1px 3px 1px rgba(0, 0, 0, 0.15);\n",
              "      filter: drop-shadow(0px 1px 2px rgba(0, 0, 0, 0.3));\n",
              "      fill: #FFFFFF;\n",
              "    }\n",
              "  </style>\n",
              "\n",
              "      <script>\n",
              "        const buttonEl =\n",
              "          document.querySelector('#df-4d723d1a-8720-4777-9fb8-5972c18be296 button.colab-df-convert');\n",
              "        buttonEl.style.display =\n",
              "          google.colab.kernel.accessAllowed ? 'block' : 'none';\n",
              "\n",
              "        async function convertToInteractive(key) {\n",
              "          const element = document.querySelector('#df-4d723d1a-8720-4777-9fb8-5972c18be296');\n",
              "          const dataTable =\n",
              "            await google.colab.kernel.invokeFunction('convertToInteractive',\n",
              "                                                     [key], {});\n",
              "          if (!dataTable) return;\n",
              "\n",
              "          const docLinkHtml = 'Like what you see? Visit the ' +\n",
              "            '<a target=\"_blank\" href=https://colab.research.google.com/notebooks/data_table.ipynb>data table notebook</a>'\n",
              "            + ' to learn more about interactive tables.';\n",
              "          element.innerHTML = '';\n",
              "          dataTable['output_type'] = 'display_data';\n",
              "          await google.colab.output.renderOutput(dataTable, element);\n",
              "          const docLink = document.createElement('div');\n",
              "          docLink.innerHTML = docLinkHtml;\n",
              "          element.appendChild(docLink);\n",
              "        }\n",
              "      </script>\n",
              "    </div>\n",
              "  </div>\n",
              "  "
            ]
          },
          "metadata": {},
          "execution_count": 5
        }
      ]
    },
    {
      "cell_type": "code",
      "source": [
        "FEATURES = ['description1', 'description2']\n",
        "print('Description of length of the feature columns')\n",
        "dup_df[FEATURES].apply(lambda col: col.str.len().describe())"
      ],
      "metadata": {
        "id": "iUe8hMYBY31i"
      },
      "execution_count": null,
      "outputs": []
    },
    {
      "cell_type": "markdown",
      "source": [
        "## Train, Validation, Test Split"
      ],
      "metadata": {
        "id": "PAV0wX2jxSWJ"
      }
    },
    {
      "cell_type": "code",
      "source": [
        "from sklearn.model_selection import train_test_split\n",
        "import random\n",
        "import sklearn"
      ],
      "metadata": {
        "id": "ydZiq_CqxTVw"
      },
      "execution_count": null,
      "outputs": []
    },
    {
      "cell_type": "code",
      "source": [
        "train_val_df = train_eclipse_df.copy()\n",
        "train_val_df"
      ],
      "metadata": {
        "id": "xAlQ7mFiVvax"
      },
      "execution_count": null,
      "outputs": []
    },
    {
      "cell_type": "code",
      "source": [
        " test_df = test_eclipse_df.copy()\n",
        " test_df"
      ],
      "metadata": {
        "id": "FjyZNriwxU8E"
      },
      "execution_count": null,
      "outputs": []
    },
    {
      "cell_type": "code",
      "source": [
        "train_df, val_df = train_test_split(\n",
        "  train_val_df,\n",
        "  test_size=0.2,\n",
        "  stratify=train_val_df.is_similar,\n",
        "  random_state=13,\n",
        ")"
      ],
      "metadata": {
        "id": "n4RGc4NYxX3S"
      },
      "execution_count": null,
      "outputs": []
    },
    {
      "cell_type": "code",
      "source": [
        "print(f'Train Val Test Size: {len(train_df):,} {len(val_df):,} {len(test_df):,}')"
      ],
      "metadata": {
        "id": "bRlsFfTExl6w"
      },
      "execution_count": null,
      "outputs": []
    },
    {
      "cell_type": "markdown",
      "source": [
        "## Download & Prepare Embedding"
      ],
      "metadata": {
        "id": "QWklXbxt0AfP"
      }
    },
    {
      "cell_type": "code",
      "source": [
        "import os\n",
        "os.environ['CUDA_VISIBLE_DEVICES'] = '-1'\n",
        "\n",
        "import tensorflow as tf\n",
        "import tensorflow.keras.utils as kutils\n",
        "from keras.layers.preprocessing.text_vectorization import TextVectorization"
      ],
      "metadata": {
        "id": "6gm-gZy60BSn"
      },
      "execution_count": null,
      "outputs": []
    },
    {
      "cell_type": "code",
      "source": [
        "!pip install gensim"
      ],
      "metadata": {
        "id": "e9JzrVk29BPW"
      },
      "execution_count": null,
      "outputs": []
    },
    {
      "cell_type": "code",
      "source": [
        "pip install kutils==0.3.0"
      ],
      "metadata": {
        "id": "i2oZQzY-U_7h"
      },
      "execution_count": null,
      "outputs": []
    },
    {
      "cell_type": "code",
      "source": [
        "import pickle\n",
        "from gensim.test.utils import datapath, get_tmpfile\n",
        "from gensim.models import KeyedVectors\n",
        "from gensim.scripts.glove2word2vec import glove2word2vec"
      ],
      "metadata": {
        "id": "KMXVuWzb9DvD"
      },
      "execution_count": null,
      "outputs": []
    },
    {
      "cell_type": "code",
      "source": [
        "glove_file = datapath('/content/glove.6B.300d.txt')\n",
        "word2vec_glove_file = get_tmpfile(\"glove.6B.300d.txt\")"
      ],
      "metadata": {
        "id": "Rb5Nve7T9Ijz"
      },
      "execution_count": null,
      "outputs": []
    },
    {
      "cell_type": "code",
      "source": [
        "import os\n",
        "os.environ['CUDA_VISIBLE_DEVICES'] = '-1'\n",
        "\n",
        "import tensorflow as tf\n",
        "import tensorflow.keras.utils as kutils\n",
        "from keras.layers.preprocessing.text_vectorization import TextVectorization"
      ],
      "metadata": {
        "id": "4YYlKDKKVvDH"
      },
      "execution_count": null,
      "outputs": []
    },
    {
      "cell_type": "code",
      "source": [
        "from pathlib import Path\n",
        "Path('C:\\Program Files').parent"
      ],
      "metadata": {
        "id": "Nm1SHmvtouup"
      },
      "execution_count": null,
      "outputs": []
    },
    {
      "cell_type": "code",
      "source": [
        "!wget http://nlp.stanford.edu/data/glove.6B.zip"
      ],
      "metadata": {
        "id": "4-MolO0rXjsf"
      },
      "execution_count": null,
      "outputs": []
    },
    {
      "cell_type": "code",
      "source": [
        "!unzip glove*.zip"
      ],
      "metadata": {
        "id": "CO45TFi8ZGXf"
      },
      "execution_count": null,
      "outputs": []
    },
    {
      "cell_type": "code",
      "source": [
        "# !ls\n",
        "# !pwd"
      ],
      "metadata": {
        "id": "9UPcOTcjZOt2"
      },
      "execution_count": null,
      "outputs": []
    },
    {
      "cell_type": "code",
      "source": [
        "import numpy as np\n",
        "print('Indexing word vectors.')\n",
        "\n",
        "embeddings_index = {}\n",
        "f = open('glove.6B.300d.txt', encoding='utf-8')\n",
        "for line in f:\n",
        "    values = line.split()\n",
        "    word = values[0]\n",
        "    coefs = np.asarray(values[1:], dtype='float32')\n",
        "    embeddings_index[word] = coefs\n",
        "f.close()\n",
        "\n",
        "print('Found %s word vectors.' % len(embeddings_index))"
      ],
      "metadata": {
        "id": "1dIa-73e8JpE"
      },
      "execution_count": null,
      "outputs": []
    },
    {
      "cell_type": "code",
      "source": [
        "import pickle\n",
        "pickle.dump({'embeddings_index' : embeddings_index } , open('/content/glove.6B.300d.txt', 'wb'))"
      ],
      "metadata": {
        "id": "23Kxa6pf8PTT"
      },
      "execution_count": null,
      "outputs": []
    },
    {
      "cell_type": "code",
      "source": [
        "from typing import List\n",
        "import itertools\n",
        "from typing import List, Dict, Tuple, Set"
      ],
      "metadata": {
        "id": "gbGW6MLl8RB8"
      },
      "execution_count": null,
      "outputs": []
    },
    {
      "cell_type": "markdown",
      "source": [
        "## create vocabulary index"
      ],
      "metadata": {
        "id": "0twgBVfbrJeH"
      }
    },
    {
      "cell_type": "code",
      "source": [
        "MAX_TOKENS = 20000\n",
        "MAX_TITLE_LENGTH = 21\n",
        "MAX_DESCRIPTION_LENGTH = 500\n",
        "EMBEDDING_DIM = 100"
      ],
      "metadata": {
        "id": "cItkSImjrL-p"
      },
      "execution_count": null,
      "outputs": []
    },
    {
      "cell_type": "code",
      "source": [
        "def build_vocab(sentences: List[str], sequence_length: int):\n",
        "  vectorizer = TextVectorization(\n",
        "    max_tokens=MAX_TOKENS - 2,\n",
        "    output_sequence_length=sequence_length,\n",
        "  )\n",
        "  vectorizer.adapt(sentences)\n",
        "  vocab = vectorizer.get_vocabulary()\n",
        "  word_index = dict(zip(vocab, range(len(vocab))))\n",
        "\n",
        "  return vectorizer, word_index"
      ],
      "metadata": {
        "id": "GQqko955rNdW"
      },
      "execution_count": null,
      "outputs": []
    },
    {
      "cell_type": "code",
      "source": [
        "dup_df"
      ],
      "metadata": {
        "id": "FPWIJxkprpq3"
      },
      "execution_count": null,
      "outputs": []
    },
    {
      "cell_type": "code",
      "source": [
        "descr_vectorizer, descr_word_index = build_vocab(\n",
        "  [dup_df.description1, dup_df.description2],\n",
        "  MAX_DESCRIPTION_LENGTH,\n",
        ")\n",
        "\n",
        "print(\n",
        "  'Most frequent description words:',\n",
        "  list(itertools.islice(descr_word_index.keys(), 5)),\n",
        ")"
      ],
      "metadata": {
        "id": "VlWPcs0ArPg-"
      },
      "execution_count": null,
      "outputs": []
    },
    {
      "cell_type": "markdown",
      "source": [
        "## Create Embedding Matrix"
      ],
      "metadata": {
        "id": "T0EDNUlKsDiP"
      }
    },
    {
      "cell_type": "code",
      "source": [
        "def create_embedding_matrix(\n",
        "  embeddings_index: Dict[str, np.ndarray],\n",
        "  word_index: Dict[str, int],\n",
        "  verbose=False,\n",
        "):\n",
        "  hits = 0\n",
        "  misses = 0\n",
        "\n",
        "  # prepare embedding matrix\n",
        "  embedding_matrix = np.zeros((MAX_TOKENS, EMBEDDING_DIM))\n",
        "  for word, i in word_index.items():\n",
        "    embedding_vector = embeddings_index.get(word)\n",
        "    if embedding_vector is not None:\n",
        "      # Words not found in embedding index will be all-zeros.\n",
        "      # This includes the representation for \"padding\" and \"OOV\"\n",
        "      embedding_matrix[i] = embedding_vector\n",
        "      hits += 1\n",
        "    else:\n",
        "      misses += 1\n",
        "\n",
        "  if verbose:\n",
        "    print('Embedding shape:', embedding_matrix.shape)\n",
        "    print(f'Found {hits} words, missed {misses}.')\n",
        "\n",
        "  return embedding_matrix"
      ],
      "metadata": {
        "id": "r_ZZge2ysE2r"
      },
      "execution_count": null,
      "outputs": []
    },
    {
      "cell_type": "code",
      "source": [
        "print('Creating description embedding matrix:')\n",
        "descr_embedding_matrix = create_embedding_matrix(\n",
        "  embeddings_index, descr_word_index, True,\n",
        ")"
      ],
      "metadata": {
        "id": "9Ee7W0zSsILC"
      },
      "execution_count": null,
      "outputs": []
    },
    {
      "cell_type": "markdown",
      "source": [
        "## Prepare Training Data"
      ],
      "metadata": {
        "id": "LiVmA9BquIfW"
      }
    },
    {
      "cell_type": "code",
      "source": [
        "def generate_batches(\n",
        "  split_df: pd.DataFrame,\n",
        "  batch_size=512,\n",
        "):\n",
        "  steps_per_epoch = len(split_df) // batch_size\n",
        "  while True:\n",
        "    for i in range(steps_per_epoch):\n",
        "      offset = i * batch_size\n",
        "      till = offset + batch_size\n",
        "      feature_batches = []\n",
        "      for feature in FEATURES:\n",
        "        vectorizer = title_vectorizer if feature.startswith('title') else descr_vectorizer\n",
        "        feature_batch = vectorizer(\n",
        "          split_df[feature][offset: till].to_numpy().reshape((-1, 1))\n",
        "        ).numpy()\n",
        "        feature_batches.append(feature_batch)\n",
        "\n",
        "\n",
        "      target_batch = split_df.is_similar[offset: till].to_numpy()\n",
        "      yield (\n",
        "        feature_batches,\n",
        "        target_batch,\n",
        "      )"
      ],
      "metadata": {
        "id": "S0Rfq90VuJSt"
      },
      "execution_count": null,
      "outputs": []
    },
    {
      "cell_type": "markdown",
      "source": [
        "## Create Models"
      ],
      "metadata": {
        "id": "0RmhmXHOuOum"
      }
    },
    {
      "cell_type": "code",
      "source": [
        "from tensorflow.keras import layers\n",
        "from tensorflow.keras import models\n",
        "from tensorflow.keras import callbacks\n",
        "from keras.initializers.initializers_v2 import Constant"
      ],
      "metadata": {
        "id": "4cfVI21muPqw"
      },
      "execution_count": null,
      "outputs": []
    },
    {
      "cell_type": "code",
      "source": [
        "DescrEmbeddingLayer = layers.Embedding(\n",
        "  input_dim=MAX_TOKENS,\n",
        "  output_dim=EMBEDDING_DIM,\n",
        "  embeddings_initializer=Constant(descr_embedding_matrix),\n",
        "  trainable=False,\n",
        "  name='DescrEmbeddingLayer',\n",
        ")\n",
        "\n",
        "def make_descr_layer(num, kernel_size=3, pool_size=2, strides=None):\n",
        "  DescrConv1dLayer = layers.Conv1D(\n",
        "    filters=32,\n",
        "    kernel_size=kernel_size,\n",
        "    activation='relu',\n",
        "    name=f'DescrConv1dLayer{num}',\n",
        "  )\n",
        "  DescrMaxPool1dLayer = layers.MaxPool1D(\n",
        "    pool_size=pool_size,\n",
        "    strides=strides,\n",
        "    name=f'DescrMaxPool1dLayer{num}',\n",
        "  )\n",
        "  return DescrConv1dLayer, DescrMaxPool1dLayer\n",
        "\n",
        "DescrConv1dLayer1, DescrMaxPool1dLayer1 = make_descr_layer(1, pool_size=4)\n",
        "DescrConv1dLayer2, DescrMaxPool1dLayer2 = make_descr_layer(2)"
      ],
      "metadata": {
        "id": "iD1j962RuSTs"
      },
      "execution_count": null,
      "outputs": []
    },
    {
      "cell_type": "code",
      "source": [
        "def create_siamese_component(num: int):\n",
        "  class SiameseComponent:\n",
        "    def __init__(self, title: layers.Input, description: layers.Input, output: layers.Concatenate):\n",
        "      self.title = title\n",
        "      self.description = description\n",
        "      self.output = output\n",
        "\n",
        "  title_input = layers.Input(shape=(None,), dtype='int32', name=f'title{num}_input')\n",
        "\n",
        "  descr_input = layers.Input(shape=(None,), name=f'descr{num}_input')\n",
        "  descr_embedding_layer = DescrEmbeddingLayer(descr_input)\n",
        "  descr_conv1d1 = DescrConv1dLayer1(descr_embedding_layer)\n",
        "  descr_max_pool1d1 = DescrMaxPool1dLayer1(descr_conv1d1)\n",
        "  descr_conv1d2 = DescrConv1dLayer2(descr_max_pool1d1)\n",
        "  descr_max_pool1d2 = DescrMaxPool1dLayer2(descr_conv1d2)\n",
        "  # descr_conv1d3 = DescrConv1dLayer3(descr_max_pool1d2)\n",
        "  # descr_max_pool1d3 = DescrMaxPool1dLayer3(descr_conv1d3)\n",
        "  descr_flat_Layer = layers.Flatten(name=f'FlatDescr{num}')(descr_max_pool1d2)\n",
        "  \n",
        "  concat = layers.Concatenate(axis=1, name=f'Concat{num}')([descr_flat_Layer])\n",
        "  return SiameseComponent(title_input, descr_input, concat)\n",
        "\n",
        "\n",
        "component1 = create_siamese_component(1)\n",
        "component2 = create_siamese_component(2)\n",
        "\n",
        "dot_product_layer = layers.Dot(\n",
        "  axes=1,\n",
        "  name='dot_product_layer'\n",
        ")([component1.output, component2.output])\n",
        "output = layers.Dense(\n",
        "  1, activation='sigmoid', name='output',\n",
        ")(dot_product_layer)\n",
        "siamese_model = models.Model(\n",
        "  inputs=[component1.description, component2.description],\n",
        "  outputs=output,\n",
        "  name='siamese_model'\n",
        ")\n",
        "\n",
        "kutils.plot_model(siamese_model)"
      ],
      "metadata": {
        "id": "hKaKSfpwuWrU"
      },
      "execution_count": null,
      "outputs": []
    },
    {
      "cell_type": "markdown",
      "source": [
        "## Train"
      ],
      "metadata": {
        "id": "BrWZRqkJwBtt"
      }
    },
    {
      "cell_type": "code",
      "source": [
        "BATCH_SIZE = 512\n",
        "opt = tf.keras.optimizers.Adam(learning_rate=0.001)\n",
        "\n",
        "\n",
        "siamese_model.compile(\n",
        "  loss='binary_crossentropy',\n",
        "  optimizer=opt,\n",
        "  metrics=['acc'],\n",
        ")\n",
        "callback = callbacks.ModelCheckpoint(\n",
        "    filepath=f'../../drive/MyDrive/Project 6308 + ICSME/Siamese'\n",
        "             '.epoch-{epoch:02d}-loss-{val_loss:.3f}.hdf5',\n",
        "    monitor='val_loss',\n",
        "    verbose=0,\n",
        "    save_best_only=True,\n",
        "    mode='min',\n",
        ")"
      ],
      "metadata": {
        "id": "rBJFNAONwD_X"
      },
      "execution_count": null,
      "outputs": []
    },
    {
      "cell_type": "code",
      "source": [
        "history = siamese_model.fit(\n",
        "  generate_batches(train_df, BATCH_SIZE),\n",
        "  steps_per_epoch=len(train_df) // BATCH_SIZE,\n",
        "  epochs=12,\n",
        "  validation_data=generate_batches(val_df, BATCH_SIZE),\n",
        "  validation_steps=len(val_df) // BATCH_SIZE,\n",
        "  verbose=1,\n",
        "  callbacks= [callback]\n",
        ")"
      ],
      "metadata": {
        "id": "D5omz3YiwJIs"
      },
      "execution_count": null,
      "outputs": []
    },
    {
      "cell_type": "code",
      "source": [
        "ax = pd.DataFrame(history.history).plot()"
      ],
      "metadata": {
        "id": "UK6kHy_0xrN9"
      },
      "execution_count": null,
      "outputs": []
    },
    {
      "cell_type": "code",
      "source": [
        "from keras.utils.vis_utils import plot_model\n",
        "from matplotlib import pyplot\n",
        "import matplotlib.pyplot as plt\n",
        "plot_model(siamese_model, to_file='model_plot.png', show_shapes=True, show_layer_names=True)\n",
        "# plot the loss\n",
        "plt.plot(history.history['loss'], label='train loss')\n",
        "plt.plot(history.history['val_loss'], label='val loss')\n",
        "plt.legend()\n",
        "plt.show()\n",
        "plt.savefig('LossVal_loss')"
      ],
      "metadata": {
        "id": "ARFey1_L1Nff"
      },
      "execution_count": null,
      "outputs": []
    },
    {
      "cell_type": "code",
      "source": [
        "# plot the accuracy\n",
        "from sklearn.metrics import accuracy_score\n",
        "plt.plot(history.history['acc'], label='train acc')\n",
        "plt.plot(history.history['val_acc'], label='val acc')\n",
        "plt.legend()\n",
        "plt.show()\n",
        "plt.savefig('AccVal_acc')"
      ],
      "metadata": {
        "id": "1sRgywWh4f6X"
      },
      "execution_count": null,
      "outputs": []
    },
    {
      "cell_type": "markdown",
      "source": [
        "## Evaluate on test data"
      ],
      "metadata": {
        "id": "uxivE_4KF-lC"
      }
    },
    {
      "cell_type": "code",
      "source": [
        "# from tensorflow.keras.models import load_model\n",
        "\n",
        "# siamese_model = load_model('../../models/siamese-openOffice.epoch-30-loss-0.457.hdf5')"
      ],
      "metadata": {
        "id": "1O6FnyjgF_EK"
      },
      "execution_count": null,
      "outputs": []
    },
    {
      "cell_type": "code",
      "source": [
        "siamese_model.evaluate(\n",
        "  generate_batches(test_df, BATCH_SIZE),\n",
        "  steps=len(test_df) // BATCH_SIZE,\n",
        ")"
      ],
      "metadata": {
        "id": "hQ_Vlc2U1Sf_"
      },
      "execution_count": null,
      "outputs": []
    },
    {
      "cell_type": "code",
      "source": [
        "BATCH_SIZE = len(test_df)\n",
        "num_batched_instances = len(test_df) - (len(test_df) % BATCH_SIZE)\n",
        "pred_y = siamese_model.predict(\n",
        "  generate_batches(test_df, BATCH_SIZE),\n",
        "  steps=len(test_df) // BATCH_SIZE,\n",
        "  verbose=1,\n",
        ")"
      ],
      "metadata": {
        "id": "D_S1YT7gGC1A"
      },
      "execution_count": null,
      "outputs": []
    },
    {
      "cell_type": "code",
      "source": [
        "from sklearn.metrics import classification_report\n",
        "print(classification_report(\n",
        "  test_df.is_similar[:num_batched_instances],\n",
        "  pred_y > .5,\n",
        "))"
      ],
      "metadata": {
        "id": "5esiuBvyHOaZ"
      },
      "execution_count": null,
      "outputs": []
    },
    {
      "cell_type": "code",
      "source": [
        "import sklearn\n",
        "from sklearn.metrics import confusion_matrix\n",
        "from sklearn.metrics import confusion_matrix,accuracy_score,classification_report,roc_auc_score\n",
        "import numpy as np; np.random.seed(0)\n",
        "import seaborn as sns; sns.set_theme()\n",
        "from sklearn.metrics import accuracy_score\n",
        "import sklearn.metrics as metrics"
      ],
      "metadata": {
        "id": "R8OK-tLz5szV"
      },
      "execution_count": null,
      "outputs": []
    },
    {
      "cell_type": "code",
      "source": [
        "from sklearn.metrics import roc_curve\n",
        "\n",
        "value_names = ['TPR', 'FPR', 'Threshold']\n",
        "roc = dict(zip(value_names, roc_curve(\n",
        "  test_df.is_similar[:num_batched_instances],\n",
        "  pred_y,\n",
        ")))\n",
        "pd.DataFrame(roc)"
      ],
      "metadata": {
        "id": "ivdeHQwIIQPp"
      },
      "execution_count": null,
      "outputs": []
    },
    {
      "cell_type": "code",
      "source": [
        "from sklearn.metrics import roc_auc_score\n",
        "\n",
        "auroc = roc_auc_score(\n",
        "  test_df.is_similar[:num_batched_instances],\n",
        "  pred_y,\n",
        ")\n",
        "\n",
        "print('AUROC score:', auroc)"
      ],
      "metadata": {
        "id": "hGbIeSFWITbw"
      },
      "execution_count": null,
      "outputs": []
    },
    {
      "cell_type": "code",
      "source": [
        "print('For probability:')\n",
        "print(f'Mean: {pred_y.mean()}, STD: {pred_y.std()}')\n",
        "print('For categorical:')\n",
        "print(f'Mean: {(pred_y > .5).mean()}, STD: {(pred_y > .5).std()}')"
      ],
      "metadata": {
        "id": "hKRDSyhv-RB8"
      },
      "execution_count": null,
      "outputs": []
    },
    {
      "cell_type": "markdown",
      "source": [
        "## Evaluate on textually similar data"
      ],
      "metadata": {
        "id": "7i8FGP06ZtbN"
      }
    },
    {
      "cell_type": "code",
      "source": [
        "#importing the CSV file of the dataset from google drive into a dataframe\n",
        "sim_df=pd.read_csv('drive/MyDrive/Project 6308 + ICSME/Dataset Pre-processing/Dataset for Siamese model /Eclipse_siamese_textually_similar_test_duplicates_preprocessed.csv')\n",
        "sim_df"
      ],
      "metadata": {
        "id": "ctv5i4uwZwQB"
      },
      "execution_count": null,
      "outputs": []
    },
    {
      "cell_type": "code",
      "source": [
        "BATCH_SIZE = len(sim_df)\n",
        "num_batched_instances = len(sim_df) - (len(sim_df) % BATCH_SIZE)\n",
        "pred_y_sim = siamese_model.predict(\n",
        "  generate_batches(sim_df, BATCH_SIZE),\n",
        "  steps=len(sim_df) // BATCH_SIZE,\n",
        "  verbose=1,\n",
        ")"
      ],
      "metadata": {
        "id": "weGMLu0eaM4Q"
      },
      "execution_count": null,
      "outputs": []
    },
    {
      "cell_type": "code",
      "source": [
        "siamese_model.evaluate(\n",
        "  generate_batches(sim_df, BATCH_SIZE),\n",
        "  steps=len(sim_df) // BATCH_SIZE,\n",
        ")"
      ],
      "metadata": {
        "id": "oe8168B8ztDW"
      },
      "execution_count": null,
      "outputs": []
    },
    {
      "cell_type": "code",
      "source": [
        "from sklearn.metrics import classification_report\n",
        "\n",
        "print(classification_report(\n",
        "  sim_df.is_similar[:num_batched_instances],\n",
        "  pred_y_sim > .5,\n",
        "))"
      ],
      "metadata": {
        "id": "apm5qUZtaTCO"
      },
      "execution_count": null,
      "outputs": []
    },
    {
      "cell_type": "code",
      "source": [
        "from sklearn.metrics import roc_curve\n",
        "\n",
        "value_names = ['TPR', 'FPR', 'Threshold']\n",
        "roc = dict(zip(value_names, roc_curve(\n",
        "  sim_df.is_similar[:num_batched_instances],\n",
        "  pred_y_sim,\n",
        ")))\n",
        "pd.DataFrame(roc)"
      ],
      "metadata": {
        "id": "i4UOiMGvaXq_"
      },
      "execution_count": null,
      "outputs": []
    },
    {
      "cell_type": "code",
      "source": [
        "from sklearn.metrics import roc_auc_score\n",
        "\n",
        "auroc = roc_auc_score(\n",
        "  sim_df.is_similar[:num_batched_instances],\n",
        "  pred_y_sim,\n",
        ")\n",
        "\n",
        "print('AUROC score:', auroc)\n"
      ],
      "metadata": {
        "id": "Uv4ot3cnaZy-"
      },
      "execution_count": null,
      "outputs": []
    },
    {
      "cell_type": "code",
      "source": [
        "print('For probability:')\n",
        "print(f'Mean: {pred_y_sim.mean()}, STD: {pred_y_sim.std()}')\n",
        "print('For categorical:')\n",
        "print(f'Mean: {(pred_y_sim > .5).mean()}, STD: {(pred_y_sim > .5).std()}')"
      ],
      "metadata": {
        "id": "M6I1HvSh-lfd"
      },
      "execution_count": null,
      "outputs": []
    },
    {
      "cell_type": "markdown",
      "source": [
        "## Evaluate on textually dissimilar data"
      ],
      "metadata": {
        "id": "BmRmorjEfQb8"
      }
    },
    {
      "cell_type": "code",
      "source": [
        "#importing the CSV file of the dataset from google drive into a dataframe\n",
        "dissim_df=pd.read_csv('drive/MyDrive/Project 6308 + ICSME/Dataset Pre-processing/Dataset for Siamese model /Eclipse_siamese_textually_dissimilar_test_duplicates_preprocessed.csv')\n",
        "dissim_df"
      ],
      "metadata": {
        "id": "S5np3yqwfV0V"
      },
      "execution_count": null,
      "outputs": []
    },
    {
      "cell_type": "code",
      "source": [
        "BATCH_SIZE = len(dissim_df)\n",
        "num_batched_instances = len(dissim_df) - (len(dissim_df) % BATCH_SIZE)\n",
        "pred_y_dis = siamese_model.predict(\n",
        "  generate_batches(dissim_df, BATCH_SIZE),\n",
        "  steps=len(dissim_df) // BATCH_SIZE,\n",
        "  verbose=1,\n",
        ")"
      ],
      "metadata": {
        "id": "i1-3kMw_fh-9"
      },
      "execution_count": null,
      "outputs": []
    },
    {
      "cell_type": "code",
      "source": [
        "siamese_model.evaluate(\n",
        "  generate_batches(dissim_df, BATCH_SIZE),\n",
        "  steps=len(dissim_df) // BATCH_SIZE,\n",
        ")"
      ],
      "metadata": {
        "id": "w4_X1A4gzwD2"
      },
      "execution_count": null,
      "outputs": []
    },
    {
      "cell_type": "code",
      "source": [
        "from sklearn.metrics import classification_report\n",
        "\n",
        "print(classification_report(\n",
        "  dissim_df.is_similar[:num_batched_instances],\n",
        "  pred_y_dis > .5,\n",
        "))"
      ],
      "metadata": {
        "id": "Xqhsl_Byfm6N"
      },
      "execution_count": null,
      "outputs": []
    },
    {
      "cell_type": "code",
      "source": [
        "from sklearn.metrics import roc_curve\n",
        "\n",
        "value_names = ['TPR', 'FPR', 'Threshold']\n",
        "roc = dict(zip(value_names, roc_curve(\n",
        "  dissim_df.is_similar[:num_batched_instances],\n",
        "  pred_y_dis,\n",
        ")))\n",
        "pd.DataFrame(roc)"
      ],
      "metadata": {
        "id": "UC2L7lDofqqU"
      },
      "execution_count": null,
      "outputs": []
    },
    {
      "cell_type": "code",
      "source": [
        "from sklearn.metrics import roc_auc_score\n",
        "\n",
        "auroc = roc_auc_score(\n",
        "  dissim_df.is_similar[:num_batched_instances],\n",
        "  pred_y_dis,\n",
        ")\n",
        "\n",
        "print('AUROC score:', auroc)\n"
      ],
      "metadata": {
        "id": "keUtQxHbfv2M"
      },
      "execution_count": null,
      "outputs": []
    },
    {
      "cell_type": "code",
      "source": [
        "print('For probability:')\n",
        "print(f'Mean: {pred_y_dis.mean()}, STD: {pred_y_dis.std()}')\n",
        "print('For categorical:')\n",
        "print(f'Mean: {(pred_y_dis > .5).mean()}, STD: {(pred_y_dis > .5).std()}')"
      ],
      "metadata": {
        "id": "xhSh7qzv0aT2"
      },
      "execution_count": null,
      "outputs": []
    }
  ]
}