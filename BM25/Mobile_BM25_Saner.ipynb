{
  "cells": [
    {
      "cell_type": "code",
      "execution_count": null,
      "id": "07dfacbc",
      "metadata": {
        "id": "07dfacbc"
      },
      "outputs": [],
      "source": [
        "import pandas as pd\n",
        "import requests\n",
        "import json\n",
        "import urllib.request\n",
        "import time\n",
        "from bs4 import BeautifulSoup\n",
        "import re\n",
        "import numpy as np"
      ]
    },
    {
      "cell_type": "code",
      "execution_count": null,
      "id": "zKSkXdUZe0Op",
      "metadata": {
        "id": "zKSkXdUZe0Op"
      },
      "outputs": [],
      "source": [
        "pip install rank_bm25"
      ]
    },
    {
      "cell_type": "code",
      "execution_count": null,
      "id": "44e63681",
      "metadata": {
        "id": "44e63681"
      },
      "outputs": [],
      "source": [
        "from rank_bm25 import BM25Okapi\n",
        "from nltk.tokenize import word_tokenize"
      ]
    },
    {
      "cell_type": "code",
      "execution_count": null,
      "id": "UOVzqP85fGMi",
      "metadata": {
        "id": "UOVzqP85fGMi"
      },
      "outputs": [],
      "source": [
        "import nltk\n",
        "nltk.download('punkt')"
      ]
    },
    {
      "cell_type": "code",
      "execution_count": null,
      "id": "E39q8e5yenTT",
      "metadata": {
        "colab": {
          "base_uri": "https://localhost:8080/",
          "height": 711
        },
        "id": "E39q8e5yenTT",
        "outputId": "fb9da3f8-ae62-491b-d702-552e547e8759"
      },
      "outputs": [
        {
          "data": {
            "text/html": [
              "<div>\n",
              "<style scoped>\n",
              "    .dataframe tbody tr th:only-of-type {\n",
              "        vertical-align: middle;\n",
              "    }\n",
              "\n",
              "    .dataframe tbody tr th {\n",
              "        vertical-align: top;\n",
              "    }\n",
              "\n",
              "    .dataframe thead th {\n",
              "        text-align: right;\n",
              "    }\n",
              "</style>\n",
              "<table border=\"1\" class=\"dataframe\">\n",
              "  <thead>\n",
              "    <tr style=\"text-align: right;\">\n",
              "      <th></th>\n",
              "      <th>Unnamed: 0</th>\n",
              "      <th>Bug ID</th>\n",
              "      <th>Type</th>\n",
              "      <th>Summary</th>\n",
              "      <th>Product</th>\n",
              "      <th>Component</th>\n",
              "      <th>Status</th>\n",
              "      <th>Resolution</th>\n",
              "      <th>Updated</th>\n",
              "      <th>Bug Id</th>\n",
              "      <th>Description</th>\n",
              "      <th>Duplicate_Bug_Ids</th>\n",
              "    </tr>\n",
              "  </thead>\n",
              "  <tbody>\n",
              "    <tr>\n",
              "      <th>0</th>\n",
              "      <td>0</td>\n",
              "      <td>1668376</td>\n",
              "      <td>defect</td>\n",
              "      <td>Test failure in dom/base/test/test_window_clos...</td>\n",
              "      <td>GeckoView</td>\n",
              "      <td>General</td>\n",
              "      <td>RESOLVED</td>\n",
              "      <td>FIXED</td>\n",
              "      <td>2020-10-14 03:01:38</td>\n",
              "      <td>1668376</td>\n",
              "      <td>the symptom was that the  broadcastchannel  me...</td>\n",
              "      <td>NaN</td>\n",
              "    </tr>\n",
              "    <tr>\n",
              "      <th>1</th>\n",
              "      <td>1</td>\n",
              "      <td>1631754</td>\n",
              "      <td>defect</td>\n",
              "      <td>PanZoomController erroneously returns INPUT_RE...</td>\n",
              "      <td>GeckoView</td>\n",
              "      <td>General</td>\n",
              "      <td>RESOLVED</td>\n",
              "      <td>FIXED</td>\n",
              "      <td>2020-05-23 04:47:46</td>\n",
              "      <td>1631754</td>\n",
              "      <td>for websites which have their own event handle...</td>\n",
              "      <td>NaN</td>\n",
              "    </tr>\n",
              "    <tr>\n",
              "      <th>2</th>\n",
              "      <td>2</td>\n",
              "      <td>1677838</td>\n",
              "      <td>defect</td>\n",
              "      <td>NumberFormatExceptionjava.lang.Integer in pars...</td>\n",
              "      <td>GeckoView</td>\n",
              "      <td>General</td>\n",
              "      <td>RESOLVED</td>\n",
              "      <td>FIXED</td>\n",
              "      <td>2021-01-06 13:28:48</td>\n",
              "      <td>1677838</td>\n",
              "      <td>we are seeing these crash being reported on se...</td>\n",
              "      <td>NaN</td>\n",
              "    </tr>\n",
              "    <tr>\n",
              "      <th>3</th>\n",
              "      <td>4</td>\n",
              "      <td>1686100</td>\n",
              "      <td>enhancement</td>\n",
              "      <td>Route Service.onTrimMemory notifications throu...</td>\n",
              "      <td>GeckoView</td>\n",
              "      <td>General</td>\n",
              "      <td>RESOLVED</td>\n",
              "      <td>FIXED</td>\n",
              "      <td>2021-01-12 02:17:23</td>\n",
              "      <td>1686100</td>\n",
              "      <td>since android may send these to the services h...</td>\n",
              "      <td>NaN</td>\n",
              "    </tr>\n",
              "    <tr>\n",
              "      <th>4</th>\n",
              "      <td>5</td>\n",
              "      <td>1630229</td>\n",
              "      <td>defect</td>\n",
              "      <td>Crash in [@ java.lang.AssertionError: at org.m...</td>\n",
              "      <td>GeckoView</td>\n",
              "      <td>General</td>\n",
              "      <td>RESOLVED</td>\n",
              "      <td>FIXED</td>\n",
              "      <td>2020-05-28 05:17:09</td>\n",
              "      <td>1630229</td>\n",
              "      <td>this bug is for crash report bp   ebbf        ...</td>\n",
              "      <td>NaN</td>\n",
              "    </tr>\n",
              "    <tr>\n",
              "      <th>...</th>\n",
              "      <td>...</td>\n",
              "      <td>...</td>\n",
              "      <td>...</td>\n",
              "      <td>...</td>\n",
              "      <td>...</td>\n",
              "      <td>...</td>\n",
              "      <td>...</td>\n",
              "      <td>...</td>\n",
              "      <td>...</td>\n",
              "      <td>...</td>\n",
              "      <td>...</td>\n",
              "      <td>...</td>\n",
              "    </tr>\n",
              "    <tr>\n",
              "      <th>5315</th>\n",
              "      <td>5499</td>\n",
              "      <td>1683643</td>\n",
              "      <td>defect</td>\n",
              "      <td>Intermittent org.mozilla.geckoview.test.Select...</td>\n",
              "      <td>GeckoView</td>\n",
              "      <td>General</td>\n",
              "      <td>RESOLVED</td>\n",
              "      <td>DUPLICATE</td>\n",
              "      <td>2021-07-30 19:04:17</td>\n",
              "      <td>1683643</td>\n",
              "      <td>filed by    rmaries  at  mozilla com   parse...</td>\n",
              "      <td>1682775.0</td>\n",
              "    </tr>\n",
              "    <tr>\n",
              "      <th>5316</th>\n",
              "      <td>5500</td>\n",
              "      <td>1649160</td>\n",
              "      <td>defect</td>\n",
              "      <td>Download Feature: unicode RTLO char can fake t...</td>\n",
              "      <td>Firefox for iOS</td>\n",
              "      <td>General</td>\n",
              "      <td>RESOLVED</td>\n",
              "      <td>FIXED</td>\n",
              "      <td>2020-12-18 17:20:48</td>\n",
              "      <td>1649160</td>\n",
              "      <td>created attachment   regedt‮gpj exe  summary  ...</td>\n",
              "      <td>NaN</td>\n",
              "    </tr>\n",
              "    <tr>\n",
              "      <th>5317</th>\n",
              "      <td>5501</td>\n",
              "      <td>1514619</td>\n",
              "      <td>defect</td>\n",
              "      <td>Menu options are in different order than new t...</td>\n",
              "      <td>Firefox for iOS</td>\n",
              "      <td>Menu and Toolbar</td>\n",
              "      <td>RESOLVED</td>\n",
              "      <td>INVALID</td>\n",
              "      <td>2019-02-11 16:36:05</td>\n",
              "      <td>1514619</td>\n",
              "      <td>created attachment             png  the hostor...</td>\n",
              "      <td>NaN</td>\n",
              "    </tr>\n",
              "    <tr>\n",
              "      <th>5318</th>\n",
              "      <td>5502</td>\n",
              "      <td>1546822</td>\n",
              "      <td>defect</td>\n",
              "      <td>Notifications repeating if not acted on in iOS...</td>\n",
              "      <td>Firefox for iOS</td>\n",
              "      <td>Sync</td>\n",
              "      <td>RESOLVED</td>\n",
              "      <td>WORKSFORME</td>\n",
              "      <td>2019-09-18 10:10:20</td>\n",
              "      <td>1546822</td>\n",
              "      <td>created attachment   syncnotificationecho png ...</td>\n",
              "      <td>NaN</td>\n",
              "    </tr>\n",
              "    <tr>\n",
              "      <th>5319</th>\n",
              "      <td>5503</td>\n",
              "      <td>1728461</td>\n",
              "      <td>defect</td>\n",
              "      <td>GeckoView unconditionally clears the startup c...</td>\n",
              "      <td>GeckoView</td>\n",
              "      <td>General</td>\n",
              "      <td>RESOLVED</td>\n",
              "      <td>FIXED</td>\n",
              "      <td>2021-09-20 10:02:49</td>\n",
              "      <td>1728461</td>\n",
              "      <td>on the moto   in fenix  we spend     in  inter...</td>\n",
              "      <td>NaN</td>\n",
              "    </tr>\n",
              "  </tbody>\n",
              "</table>\n",
              "<p>5320 rows × 12 columns</p>\n",
              "</div>"
            ],
            "text/plain": [
              "      Unnamed: 0   Bug ID         Type  \\\n",
              "0              0  1668376       defect   \n",
              "1              1  1631754       defect   \n",
              "2              2  1677838       defect   \n",
              "3              4  1686100  enhancement   \n",
              "4              5  1630229       defect   \n",
              "...          ...      ...          ...   \n",
              "5315        5499  1683643       defect   \n",
              "5316        5500  1649160       defect   \n",
              "5317        5501  1514619       defect   \n",
              "5318        5502  1546822       defect   \n",
              "5319        5503  1728461       defect   \n",
              "\n",
              "                                                Summary          Product  \\\n",
              "0     Test failure in dom/base/test/test_window_clos...        GeckoView   \n",
              "1     PanZoomController erroneously returns INPUT_RE...        GeckoView   \n",
              "2     NumberFormatExceptionjava.lang.Integer in pars...        GeckoView   \n",
              "3     Route Service.onTrimMemory notifications throu...        GeckoView   \n",
              "4     Crash in [@ java.lang.AssertionError: at org.m...        GeckoView   \n",
              "...                                                 ...              ...   \n",
              "5315  Intermittent org.mozilla.geckoview.test.Select...        GeckoView   \n",
              "5316  Download Feature: unicode RTLO char can fake t...  Firefox for iOS   \n",
              "5317  Menu options are in different order than new t...  Firefox for iOS   \n",
              "5318  Notifications repeating if not acted on in iOS...  Firefox for iOS   \n",
              "5319  GeckoView unconditionally clears the startup c...        GeckoView   \n",
              "\n",
              "             Component    Status  Resolution              Updated   Bug Id  \\\n",
              "0              General  RESOLVED       FIXED  2020-10-14 03:01:38  1668376   \n",
              "1              General  RESOLVED       FIXED  2020-05-23 04:47:46  1631754   \n",
              "2              General  RESOLVED       FIXED  2021-01-06 13:28:48  1677838   \n",
              "3              General  RESOLVED       FIXED  2021-01-12 02:17:23  1686100   \n",
              "4              General  RESOLVED       FIXED  2020-05-28 05:17:09  1630229   \n",
              "...                ...       ...         ...                  ...      ...   \n",
              "5315           General  RESOLVED   DUPLICATE  2021-07-30 19:04:17  1683643   \n",
              "5316           General  RESOLVED       FIXED  2020-12-18 17:20:48  1649160   \n",
              "5317  Menu and Toolbar  RESOLVED     INVALID  2019-02-11 16:36:05  1514619   \n",
              "5318              Sync  RESOLVED  WORKSFORME  2019-09-18 10:10:20  1546822   \n",
              "5319           General  RESOLVED       FIXED  2021-09-20 10:02:49  1728461   \n",
              "\n",
              "                                            Description  Duplicate_Bug_Ids  \n",
              "0     the symptom was that the  broadcastchannel  me...                NaN  \n",
              "1     for websites which have their own event handle...                NaN  \n",
              "2     we are seeing these crash being reported on se...                NaN  \n",
              "3     since android may send these to the services h...                NaN  \n",
              "4     this bug is for crash report bp   ebbf        ...                NaN  \n",
              "...                                                 ...                ...  \n",
              "5315    filed by    rmaries  at  mozilla com   parse...          1682775.0  \n",
              "5316  created attachment   regedt‮gpj exe  summary  ...                NaN  \n",
              "5317  created attachment             png  the hostor...                NaN  \n",
              "5318  created attachment   syncnotificationecho png ...                NaN  \n",
              "5319  on the moto   in fenix  we spend     in  inter...                NaN  \n",
              "\n",
              "[5320 rows x 12 columns]"
            ]
          },
          "execution_count": 6,
          "metadata": {},
          "output_type": "execute_result"
        }
      ],
      "source": [
        "Whole_dataset=pd.read_csv(r\"C:\\Users\\sigma\\Desktop\\Saner\\Dataset (Primarry)\\mobile_preproccessed_whole_dataset.csv\")\n",
        "Whole_dataset"
      ]
    },
    {
      "cell_type": "code",
      "execution_count": null,
      "id": "9Qq8YzKPeunx",
      "metadata": {
        "id": "9Qq8YzKPeunx"
      },
      "outputs": [],
      "source": [
        "data = Whole_dataset.copy()"
      ]
    },
    {
      "cell_type": "code",
      "execution_count": null,
      "id": "ed8e835c-ad87-433e-8781-bcb3b4bf6c81",
      "metadata": {
        "id": "ed8e835c-ad87-433e-8781-bcb3b4bf6c81"
      },
      "outputs": [],
      "source": [
        "data['Description1'] = data['Summary']+ data['Description']"
      ]
    },
    {
      "cell_type": "code",
      "execution_count": null,
      "id": "41c87d8d-1525-42cc-8b19-e207eb619816",
      "metadata": {
        "id": "41c87d8d-1525-42cc-8b19-e207eb619816"
      },
      "outputs": [],
      "source": [
        "data.info()"
      ]
    },
    {
      "cell_type": "code",
      "execution_count": null,
      "id": "26f7f07f-7041-4472-8de3-79443d0db8d2",
      "metadata": {
        "id": "26f7f07f-7041-4472-8de3-79443d0db8d2"
      },
      "outputs": [],
      "source": [
        "data = data[[\"Bug ID\", \"Description1\", 'Duplicate_Bug_Ids', 'Resolution']]"
      ]
    },
    {
      "cell_type": "code",
      "execution_count": null,
      "id": "8f9560fd-f9d3-4db7-a053-e3bc4c4bf94e",
      "metadata": {
        "id": "8f9560fd-f9d3-4db7-a053-e3bc4c4bf94e"
      },
      "outputs": [],
      "source": [
        "data"
      ]
    },
    {
      "cell_type": "code",
      "execution_count": null,
      "id": "47f1df7b-aee6-488f-ae96-f46351eeccfc",
      "metadata": {
        "id": "47f1df7b-aee6-488f-ae96-f46351eeccfc"
      },
      "outputs": [],
      "source": [
        "data = data.rename(columns = {\"Bug ID\":\"Bug_Id\", \"Description1\": \"Description\"})\n",
        "data"
      ]
    },
    {
      "cell_type": "code",
      "execution_count": null,
      "id": "13b8802b-39b4-49ea-99f7-81ebf9b3ba35",
      "metadata": {
        "id": "13b8802b-39b4-49ea-99f7-81ebf9b3ba35"
      },
      "outputs": [],
      "source": [
        "data['Bug_Id']= data['Bug_Id'].values.astype('float64')"
      ]
    },
    {
      "cell_type": "code",
      "execution_count": null,
      "id": "977f7a58",
      "metadata": {
        "id": "977f7a58"
      },
      "outputs": [],
      "source": [
        "sentences = data['Description']"
      ]
    },
    {
      "cell_type": "code",
      "execution_count": null,
      "id": "eb2c2623",
      "metadata": {
        "id": "eb2c2623"
      },
      "outputs": [],
      "source": [
        "tokens = []\n",
        "for s in sentences:\n",
        "    cleanedTex=re.sub(r'[^\\w\\s]','',str(s)).lower()\n",
        "    words = (word_tokenize(cleanedTex))\n",
        "    tokens .append(words)"
      ]
    },
    {
      "cell_type": "code",
      "execution_count": null,
      "id": "b2667d45",
      "metadata": {
        "id": "b2667d45"
      },
      "outputs": [],
      "source": [
        "bm25 = BM25Okapi(tokens)"
      ]
    },
    {
      "cell_type": "code",
      "execution_count": null,
      "id": "86f1faaa",
      "metadata": {
        "id": "86f1faaa"
      },
      "outputs": [],
      "source": [
        "nan_value = float(\"NaN\")\n",
        "data.replace(\"\", nan_value, inplace=True)\n",
        "data.dropna(subset = [\"Description\"], inplace=True)\n",
        "cond = (data['Description'] == 'NaN')\n",
        "cond.unique()\n",
        "data = data.reset_index(drop=True)"
      ]
    },
    {
      "cell_type": "code",
      "execution_count": null,
      "id": "d1858bca",
      "metadata": {
        "id": "d1858bca"
      },
      "outputs": [],
      "source": [
        "data['Description']"
      ]
    },
    {
      "cell_type": "code",
      "execution_count": null,
      "id": "80dfbfe1",
      "metadata": {
        "id": "80dfbfe1"
      },
      "outputs": [],
      "source": [
        "data['Description']=data['Description'].values.astype('object')"
      ]
    },
    {
      "cell_type": "markdown",
      "id": "369c09bc",
      "metadata": {
        "id": "369c09bc"
      },
      "source": [
        "### On complete data"
      ]
    },
    {
      "cell_type": "code",
      "execution_count": null,
      "id": "92766405",
      "metadata": {
        "id": "92766405"
      },
      "outputs": [],
      "source": [
        "count=0\n",
        "dup_indices_with_bug_id = {}\n",
        "similarity_scores_before = []\n",
        "similarity_scores = {}\n",
        "issues = data.Bug_Id\n",
        "\n",
        "for i, row in data.iterrows():\n",
        "    \n",
        "    issue_id = row.Bug_Id\n",
        "    dup_id = row.Duplicate_Bug_Ids\n",
        "    \n",
        "    if dup_id not in issues.values:\n",
        "        count+=1\n",
        "        continue\n",
        "\n",
        "    similarity_row = bm25.get_scores(tokens[i])\n",
        "    argsort_similarity = np.argsort(similarity_row)[::-1][1:]\n",
        "    similarity_scores_before = (np.sort(similarity_row)[::-1][1:])\n",
        "    dup_bug_index = list(issues[issues == dup_id].index)[0]\n",
        "    dup_ranking = np.argmax(argsort_similarity == np.int64(dup_bug_index))\n",
        "    \n",
        "    dup_indices_with_bug_id[issue_id] = dup_ranking"
      ]
    },
    {
      "cell_type": "code",
      "execution_count": null,
      "id": "2aa7a9a3",
      "metadata": {
        "id": "2aa7a9a3"
      },
      "outputs": [],
      "source": [
        "count_at_1=0\n",
        "count_at_5=0\n",
        "count_at_10=0\n",
        "count_at_20=0\n",
        "count_at_25=0\n",
        "count_at_30=0\n",
        "count_at_50=0\n",
        "count_at_75=0\n",
        "count_at_100=0\n",
        "\n",
        "for key, value in enumerate(dup_indices_with_bug_id.values()):\n",
        "    if(value < 1):\n",
        "        count_at_1+=1\n",
        "    if(value < 5):\n",
        "        count_at_5+=1\n",
        "    if(value < 10):\n",
        "        count_at_10+=1\n",
        "    if(value < 20):\n",
        "        count_at_20+=1\n",
        "    if(value < 25):\n",
        "        count_at_25+=1\n",
        "    if(value < 30):\n",
        "        count_at_30+=1\n",
        "    if(value < 50):\n",
        "        count_at_50+=1\n",
        "    if(value < 75):\n",
        "        count_at_75+=1\n",
        "    if(value < 100):\n",
        "        count_at_100+=1\n",
        "        \n",
        "print(\"count at 1\",count_at_1)        \n",
        "print(\"count at 5\",count_at_5)\n",
        "print(\"count at 10\",count_at_10)\n",
        "print(\"count at 20\",count_at_20)\n",
        "print(\"count at 25\",count_at_25)\n",
        "print(\"count at 30\",count_at_30)\n",
        "print(\"count at 50\",count_at_50)\n",
        "print(\"count at 75\",count_at_75)\n",
        "print(\"count at 100\",count_at_100)\n",
        "\n",
        "N = len(dup_indices_with_bug_id)\n",
        "\n",
        "recall_rate_at_1 = count_at_1/N\n",
        "print(\"recall_rate_at_1\",recall_rate_at_1)\n",
        "\n",
        "recall_rate_at_5 = count_at_5/N\n",
        "print(\"recall_rate_at_5\",recall_rate_at_5)\n",
        "\n",
        "recall_rate_at_10 = count_at_10/N\n",
        "print(\"recall_rate_at_10\",recall_rate_at_10)\n",
        "\n",
        "recall_rate_at_20 = count_at_20/N\n",
        "print(\"recall_rate_at_20\",recall_rate_at_20)\n",
        "\n",
        "recall_rate_at_25 = count_at_25/N\n",
        "print(\"recall_rate_at_25\",recall_rate_at_25)\n",
        "\n",
        "recall_rate_at_30 = count_at_30/N\n",
        "print(\"recall_rate_at_30\",recall_rate_at_30)\n",
        "\n",
        "recall_rate_at_50 = count_at_50/N\n",
        "print(\"recall_rate_at_50\",recall_rate_at_50)\n",
        "\n",
        "recall_rate_at_75 = count_at_75/N\n",
        "print(\"recall_rate_at_75\",recall_rate_at_75)\n",
        "\n",
        "recall_rate_at_100 = count_at_100/N\n",
        "print(\"recall_rate_at_10\",recall_rate_at_100)"
      ]
    },
    {
      "cell_type": "markdown",
      "id": "703cd1ca",
      "metadata": {
        "id": "703cd1ca"
      },
      "source": [
        "## Textually Similar"
      ]
    },
    {
      "cell_type": "code",
      "execution_count": null,
      "id": "qxY0pwIKf1I5",
      "metadata": {
        "id": "qxY0pwIKf1I5"
      },
      "outputs": [],
      "source": [
        "textually_similar_data = pd.read_csv(r\"C:\\Users\\sigma\\Desktop\\Saner\\Mobile\\Mobile_final_sim.csv\")"
      ]
    },
    {
      "cell_type": "code",
      "execution_count": null,
      "id": "2ff6d7a8-4f87-4ddb-befe-031eae4d7fd0",
      "metadata": {
        "id": "2ff6d7a8-4f87-4ddb-befe-031eae4d7fd0"
      },
      "outputs": [],
      "source": [
        "textually_similar_data['Description1'] = textually_similar_data['Summary']+ textually_similar_data['Description']"
      ]
    },
    {
      "cell_type": "code",
      "execution_count": null,
      "id": "l1fUy6Fy1gIg",
      "metadata": {
        "id": "l1fUy6Fy1gIg"
      },
      "outputs": [],
      "source": [
        "textually_similar_data = textually_similar_data.rename(columns = {\"Bug ID\":\"Bug_Id\"})"
      ]
    },
    {
      "cell_type": "code",
      "execution_count": null,
      "id": "1cab093f-8d38-4420-9365-112826a36931",
      "metadata": {
        "id": "1cab093f-8d38-4420-9365-112826a36931"
      },
      "outputs": [],
      "source": [
        "textually_similar_data = textually_similar_data[[\"Bug_Id\", \"Description1\", 'Duplicate_Bug_Ids', 'Resolution']]"
      ]
    },
    {
      "cell_type": "code",
      "execution_count": null,
      "id": "a91ade24-5f08-45bc-be0f-2e0c8faefdd0",
      "metadata": {
        "id": "a91ade24-5f08-45bc-be0f-2e0c8faefdd0"
      },
      "outputs": [],
      "source": [
        "textually_similar_data"
      ]
    },
    {
      "cell_type": "code",
      "execution_count": null,
      "id": "3293f2e5-75bc-4cfe-bcd0-c8034d8272f8",
      "metadata": {
        "id": "3293f2e5-75bc-4cfe-bcd0-c8034d8272f8"
      },
      "outputs": [],
      "source": [
        "bm25 = BM25Okapi(tokens)"
      ]
    },
    {
      "cell_type": "code",
      "execution_count": null,
      "id": "35c98489-ab6a-4fa7-a086-b9f4afef702c",
      "metadata": {
        "id": "35c98489-ab6a-4fa7-a086-b9f4afef702c"
      },
      "outputs": [],
      "source": [
        "nan_value = float(\"NaN\")\n",
        "textually_similar_data.replace(\"\", nan_value, inplace=True)\n",
        "textually_similar_data.dropna(subset = [\"Description1\"], inplace=True)\n",
        "cond = (textually_similar_data['Description1'] == 'NaN')\n",
        "cond.unique()\n",
        "textually_similar_data = textually_similar_data.reset_index(drop=True)"
      ]
    },
    {
      "cell_type": "code",
      "execution_count": null,
      "id": "db93a933-9ec1-4456-be7f-a356cca07637",
      "metadata": {
        "id": "db93a933-9ec1-4456-be7f-a356cca07637"
      },
      "outputs": [],
      "source": [
        "textually_similar_data['Description1']=textually_similar_data['Description1'].values.astype('object')"
      ]
    },
    {
      "cell_type": "code",
      "execution_count": null,
      "id": "bd927edf-bd65-4fd5-a133-6ec178284237",
      "metadata": {
        "id": "bd927edf-bd65-4fd5-a133-6ec178284237"
      },
      "outputs": [],
      "source": [
        "textually_similar_data['Bug_Id']= textually_similar_data['Bug_Id'].values.astype('float64')"
      ]
    },
    {
      "cell_type": "code",
      "execution_count": null,
      "id": "535b2088",
      "metadata": {
        "id": "535b2088"
      },
      "outputs": [],
      "source": [
        "sentence_sim = textually_similar_data.Description1\n",
        "\n",
        "tokens_sim = []\n",
        "for s in sentence_sim:\n",
        "    cleanedTex=re.sub(r'[^\\w\\s]','',str(s)).lower()\n",
        "    words = (word_tokenize(cleanedTex))\n",
        "    tokens_sim.append(words)"
      ]
    },
    {
      "cell_type": "code",
      "execution_count": null,
      "id": "7c42c115",
      "metadata": {
        "id": "7c42c115"
      },
      "outputs": [],
      "source": [
        "count=0\n",
        "dup_indices_with_bug_id_similar = {}\n",
        "similarity_scores_before = []\n",
        "similarity_scores = {}\n",
        "issues = data.Bug_Id\n",
        "\n",
        "for i, row in textually_similar_data.iterrows():\n",
        "    \n",
        "    issue_id = row.Bug_Id\n",
        "    dup_id = row.Duplicate_Bug_Ids\n",
        "    \n",
        "    if dup_id not in issues.values:\n",
        "        count+=1\n",
        "        continue\n",
        "        \n",
        "    similarity_row = bm25.get_scores(tokens_sim[i])\n",
        "    argsort_similarity = np.argsort(similarity_row)[::-1][1:]\n",
        "    similarity_scores_before = (np.sort(similarity_row)[::-1][1:])\n",
        "    dup_bug_index = list(issues[issues == dup_id].index)[0]\n",
        "    dup_ranking = np.argmax(argsort_similarity == np.int64(dup_bug_index)) \n",
        "    dup_indices_with_bug_id_similar[issue_id] = dup_ranking"
      ]
    },
    {
      "cell_type": "code",
      "execution_count": null,
      "id": "21be3b56-87f8-444d-9444-a226f0d8a4f0",
      "metadata": {
        "id": "21be3b56-87f8-444d-9444-a226f0d8a4f0"
      },
      "outputs": [],
      "source": [
        "count_at_1=0\n",
        "count_at_5=0\n",
        "count_at_10=0\n",
        "count_at_20=0\n",
        "count_at_25=0\n",
        "count_at_30=0\n",
        "count_at_50=0\n",
        "count_at_75=0\n",
        "count_at_100=0\n",
        "\n",
        "for key, value in enumerate(dup_indices_with_bug_id_similar.values()):\n",
        "    if(value < 1):\n",
        "        count_at_1+=1\n",
        "    if(value < 5):\n",
        "        count_at_5+=1\n",
        "    if(value < 10):\n",
        "        count_at_10+=1\n",
        "    if(value < 20):\n",
        "        count_at_20+=1\n",
        "    if(value < 25):\n",
        "        count_at_25+=1\n",
        "    if(value < 30):\n",
        "        count_at_30+=1\n",
        "    if(value < 50):\n",
        "        count_at_50+=1\n",
        "    if(value < 75):\n",
        "        count_at_75+=1\n",
        "    if(value < 100):\n",
        "        count_at_100+=1\n",
        "        \n",
        "print(\"count at 1\",count_at_1)        \n",
        "print(\"count at 5\",count_at_5)\n",
        "print(\"count at 10\",count_at_10)\n",
        "print(\"count at 20\",count_at_20)\n",
        "print(\"count at 25\",count_at_25)\n",
        "print(\"count at 30\",count_at_30)\n",
        "print(\"count at 50\",count_at_50)\n",
        "print(\"count at 75\",count_at_75)\n",
        "print(\"count at 100\",count_at_100)\n",
        "\n",
        "N = len(dup_indices_with_bug_id_similar)\n",
        "\n",
        "recall_rate_at_1 = count_at_1/N\n",
        "print(\"recall_rate_at_1\",recall_rate_at_1)\n",
        "\n",
        "recall_rate_at_5 = count_at_5/N\n",
        "print(\"recall_rate_at_5\",recall_rate_at_5)\n",
        "\n",
        "recall_rate_at_10 = count_at_10/N\n",
        "print(\"recall_rate_at_10\",recall_rate_at_10)\n",
        "\n",
        "recall_rate_at_20 = count_at_20/N\n",
        "print(\"recall_rate_at_20\",recall_rate_at_20)\n",
        "\n",
        "recall_rate_at_25 = count_at_25/N\n",
        "print(\"recall_rate_at_25\",recall_rate_at_25)\n",
        "\n",
        "recall_rate_at_30 = count_at_30/N\n",
        "print(\"recall_rate_at_30\",recall_rate_at_30)\n",
        "\n",
        "recall_rate_at_50 = count_at_50/N\n",
        "print(\"recall_rate_at_50\",recall_rate_at_50)\n",
        "\n",
        "recall_rate_at_75 = count_at_75/N\n",
        "print(\"recall_rate_at_75\",recall_rate_at_75)\n",
        "\n",
        "recall_rate_at_100 = count_at_100/N\n",
        "print(\"recall_rate_at_100\",recall_rate_at_100)"
      ]
    },
    {
      "cell_type": "markdown",
      "id": "53064642",
      "metadata": {
        "id": "53064642"
      },
      "source": [
        "# Textually Dissimilar"
      ]
    },
    {
      "cell_type": "code",
      "execution_count": null,
      "id": "0af51cdc",
      "metadata": {
        "id": "0af51cdc"
      },
      "outputs": [],
      "source": [
        "textually_dissimilar_data = pd.read_csv(r\"C:\\Users\\sigma\\Desktop\\Saner\\Mobile\\Mobile_final_dis.csv\")"
      ]
    },
    {
      "cell_type": "code",
      "execution_count": null,
      "id": "dbc81909",
      "metadata": {
        "id": "dbc81909"
      },
      "outputs": [],
      "source": [
        "textually_dissimilar_data.info()"
      ]
    },
    {
      "cell_type": "code",
      "execution_count": null,
      "id": "abc21f4a-956a-4518-bdd1-ae2d2313f1ed",
      "metadata": {
        "id": "abc21f4a-956a-4518-bdd1-ae2d2313f1ed"
      },
      "outputs": [],
      "source": [
        "textually_dissimilar_data['Description1'] = textually_dissimilar_data['Summary']+ textually_dissimilar_data['Description']"
      ]
    },
    {
      "cell_type": "code",
      "execution_count": null,
      "id": "537c4591-9968-453f-ad7c-c78867ec2407",
      "metadata": {
        "id": "537c4591-9968-453f-ad7c-c78867ec2407"
      },
      "outputs": [],
      "source": [
        "textually_dissimilar_data = textually_dissimilar_data.rename(columns = {\"Bug ID\":\"Bug_Id\"})"
      ]
    },
    {
      "cell_type": "code",
      "execution_count": null,
      "id": "208e1bf3-712d-4161-83cc-a7929ac03d41",
      "metadata": {
        "id": "208e1bf3-712d-4161-83cc-a7929ac03d41"
      },
      "outputs": [],
      "source": [
        "textually_dissimilar_data = textually_dissimilar_data[[\"Bug_Id\", \"Description1\", 'Duplicate_Bug_Ids', 'Resolution']]"
      ]
    },
    {
      "cell_type": "code",
      "execution_count": null,
      "id": "ad161ffc-27ce-4663-9aaf-6697a222df0f",
      "metadata": {
        "id": "ad161ffc-27ce-4663-9aaf-6697a222df0f"
      },
      "outputs": [],
      "source": [
        "bm25 = BM25Okapi(tokens)"
      ]
    },
    {
      "cell_type": "code",
      "execution_count": null,
      "id": "c3ff0547-429f-4566-ba00-9c14fb9e2589",
      "metadata": {
        "id": "c3ff0547-429f-4566-ba00-9c14fb9e2589"
      },
      "outputs": [],
      "source": [
        "nan_value = float(\"NaN\")\n",
        "textually_dissimilar_data.replace(\"\", nan_value, inplace=True)\n",
        "textually_dissimilar_data.dropna(subset = [\"Description1\"], inplace=True)\n",
        "cond = (textually_dissimilar_data['Description1'] == 'NaN')\n",
        "cond.unique()\n",
        "textually_dissimilar_data = textually_dissimilar_data.reset_index(drop=True)"
      ]
    },
    {
      "cell_type": "code",
      "execution_count": null,
      "id": "86dbfb93-a527-4f0b-bc1d-6aa11eaef9d3",
      "metadata": {
        "id": "86dbfb93-a527-4f0b-bc1d-6aa11eaef9d3"
      },
      "outputs": [],
      "source": [
        "textually_dissimilar_data['Description1']=textually_dissimilar_data['Description1'].values.astype('object')"
      ]
    },
    {
      "cell_type": "code",
      "execution_count": null,
      "id": "848a90c4-ab55-4984-a19a-ae40f550fc72",
      "metadata": {
        "id": "848a90c4-ab55-4984-a19a-ae40f550fc72"
      },
      "outputs": [],
      "source": [
        "textually_dissimilar_data['Bug_Id']=textually_dissimilar_data['Bug_Id'].values.astype('float64')"
      ]
    },
    {
      "cell_type": "code",
      "execution_count": null,
      "id": "11c90c45-8ce2-44a3-8b9a-669a534b28ca",
      "metadata": {
        "id": "11c90c45-8ce2-44a3-8b9a-669a534b28ca"
      },
      "outputs": [],
      "source": [
        "textually_dissimilar_data = textually_dissimilar_data[:1414]\n",
        "textually_dissimilar_data"
      ]
    },
    {
      "cell_type": "code",
      "execution_count": null,
      "id": "4cc67f36",
      "metadata": {
        "id": "4cc67f36"
      },
      "outputs": [],
      "source": [
        "sentence_dissim = textually_dissimilar_data.Description1\n",
        "\n",
        "tokens_dissim = []\n",
        "for s in sentence_dissim:\n",
        "    cleanedTex=re.sub(r'[^\\w\\s]','',str(s)).lower()\n",
        "    words = (word_tokenize(cleanedTex))\n",
        "    tokens_dissim.append(words)"
      ]
    },
    {
      "cell_type": "code",
      "execution_count": null,
      "id": "1f82c237",
      "metadata": {
        "id": "1f82c237"
      },
      "outputs": [],
      "source": [
        "count=0\n",
        "dup_indices_with_bug_id_dissimilar = {}\n",
        "similarity_scores_before = []\n",
        "similarity_scores = {}\n",
        "issues = data.Bug_Id\n",
        "\n",
        "for i, row in textually_dissimilar_data.iterrows():\n",
        "    \n",
        "    issue_id = row.Bug_Id\n",
        "    dup_id = row.Duplicate_Bug_Ids\n",
        "    \n",
        "    if dup_id not in issues.values:\n",
        "        count+=1\n",
        "#         print(f'{i}. Duplicate ID {dup_id} not found in issue IDs')\n",
        "        continue\n",
        "    if i==4427:\n",
        "        break\n",
        "    similarity_row = bm25.get_scores(tokens_dissim[i])\n",
        "    argsort_similarity = np.argsort(similarity_row)[::-1][1:]\n",
        "    similarity_scores_before = (np.sort(similarity_row)[::-1][1:])\n",
        "#     similarity_scores[issue_id] = np.min(similarity_scores_before[np.nonzero(similarity_scores_before)])\n",
        "    dup_bug_index = list(issues[issues == dup_id].index)[0]\n",
        "    dup_ranking = np.argmax(argsort_similarity == np.int64(dup_bug_index))\n",
        "    \n",
        "    dup_indices_with_bug_id_dissimilar[issue_id] = dup_ranking\n",
        "# print(count)"
      ]
    },
    {
      "cell_type": "code",
      "execution_count": null,
      "id": "f853bf2d-cb12-4dbe-beef-4005c5cabdb4",
      "metadata": {
        "id": "f853bf2d-cb12-4dbe-beef-4005c5cabdb4"
      },
      "outputs": [],
      "source": [
        "count_at_1=0\n",
        "count_at_5=0\n",
        "count_at_10=0\n",
        "count_at_20=0\n",
        "count_at_25=0\n",
        "count_at_30=0\n",
        "count_at_50=0\n",
        "count_at_75=0\n",
        "count_at_100=0\n",
        "\n",
        "for key, value in enumerate(dup_indices_with_bug_id_dissimilar.values()):\n",
        "    if(value < 1):\n",
        "        count_at_1+=1\n",
        "    if(value < 5):\n",
        "        count_at_5+=1\n",
        "    if(value < 10):\n",
        "        count_at_10+=1\n",
        "    if(value < 20):\n",
        "        count_at_20+=1\n",
        "    if(value < 25):\n",
        "        count_at_25+=1\n",
        "    if(value < 30):\n",
        "        count_at_30+=1\n",
        "    if(value < 50):\n",
        "        count_at_50+=1\n",
        "    if(value < 75):\n",
        "        count_at_75+=1\n",
        "    if(value < 100):\n",
        "        count_at_100+=1\n",
        "        \n",
        "print(\"count at 1\",count_at_1)        \n",
        "print(\"count at 5\",count_at_5)\n",
        "print(\"count at 10\",count_at_10)\n",
        "print(\"count at 20\",count_at_20)\n",
        "print(\"count at 25\",count_at_25)\n",
        "print(\"count at 30\",count_at_30)\n",
        "print(\"count at 50\",count_at_50)\n",
        "print(\"count at 75\",count_at_75)\n",
        "print(\"count at 100\",count_at_100)\n",
        "\n",
        "N = len(dup_indices_with_bug_id_dissimilar)\n",
        "\n",
        "recall_rate_at_1 = count_at_1/N\n",
        "print(\"recall_rate_at_1\",recall_rate_at_1)\n",
        "\n",
        "recall_rate_at_5 = count_at_5/N\n",
        "print(\"recall_rate_at_5\",recall_rate_at_5)\n",
        "\n",
        "recall_rate_at_10 = count_at_10/N\n",
        "print(\"recall_rate_at_10\",recall_rate_at_10)\n",
        "\n",
        "recall_rate_at_20 = count_at_20/N\n",
        "print(\"recall_rate_at_20\",recall_rate_at_20)\n",
        "\n",
        "recall_rate_at_25 = count_at_25/N\n",
        "print(\"recall_rate_at_25\",recall_rate_at_25)\n",
        "\n",
        "recall_rate_at_30 = count_at_30/N\n",
        "print(\"recall_rate_at_30\",recall_rate_at_30)\n",
        "\n",
        "recall_rate_at_50 = count_at_50/N\n",
        "print(\"recall_rate_at_50\",recall_rate_at_50)\n",
        "\n",
        "recall_rate_at_75 = count_at_75/N\n",
        "print(\"recall_rate_at_75\",recall_rate_at_75)\n",
        "\n",
        "recall_rate_at_100 = count_at_100/N\n",
        "print(\"recall_rate_at_100\",recall_rate_at_100)"
      ]
    }
  ],
  "metadata": {
    "colab": {
      "provenance": []
    },
    "kernelspec": {
      "display_name": "Python 3",
      "language": "python",
      "name": "python3"
    },
    "language_info": {
      "codemirror_mode": {
        "name": "ipython",
        "version": 3
      },
      "file_extension": ".py",
      "mimetype": "text/x-python",
      "name": "python",
      "nbconvert_exporter": "python",
      "pygments_lexer": "ipython3",
      "version": "3.8.8"
    }
  },
  "nbformat": 4,
  "nbformat_minor": 5
}